{
 "cells": [
  {
   "cell_type": "markdown",
   "metadata": {},
   "source": [
    "# Data Programming - Spark: 타이타닉 데이터 분석\n",
    "\n",
    "### 1. 데이터를 위한 Spark SQL 설정"
   ]
  },
  {
   "cell_type": "markdown",
   "metadata": {},
   "source": [
    "#### Colab에서 환경 설정"
   ]
  },
  {
   "cell_type": "markdown",
   "metadata": {},
   "source": [
    "### TODO: 아래의 코드를 따라치면서 Colab 환경에서 spark ml을 실행할 준비를 하고 연결을 확인합니다."
   ]
  },
  {
   "cell_type": "code",
   "execution_count": null,
   "metadata": {},
   "outputs": [],
   "source": [
    "!wget -q https://archive.apache.org/dist/spark/spark-3.2.4/spark-3.2.4-bin-hadoop3.2.tgz\n",
    "!tar xf spark-3.2.4-bin-hadoop3.2.tgz\n",
    "!pip install -q findspark"
   ]
  },
  {
   "cell_type": "code",
   "execution_count": null,
   "metadata": {},
   "outputs": [],
   "source": [
    "# findspark를 사용해 Spark 초기화\n",
    "import findspark\n",
    "findspark.init(\"/content/spark-3.2.4-bin-hadoop3.2\")"
   ]
  },
  {
   "cell_type": "code",
   "execution_count": null,
   "metadata": {},
   "outputs": [
    {
     "name": "stderr",
     "output_type": "stream",
     "text": [
      "WARNING: An illegal reflective access operation has occurred\n",
      "WARNING: Illegal reflective access by org.apache.spark.unsafe.Platform (file:/opt/spark/jars/spark-unsafe_2.12-3.2.4.jar) to constructor java.nio.DirectByteBuffer(long,int)\n",
      "WARNING: Please consider reporting this to the maintainers of org.apache.spark.unsafe.Platform\n",
      "WARNING: Use --illegal-access=warn to enable warnings of further illegal reflective access operations\n",
      "WARNING: All illegal access operations will be denied in a future release\n",
      "Using Spark's default log4j profile: org/apache/spark/log4j-defaults.properties\n",
      "Setting default log level to \"WARN\".\n",
      "To adjust logging level use sc.setLogLevel(newLevel). For SparkR, use setLogLevel(newLevel).\n",
      "24/11/05 03:53:00 WARN NativeCodeLoader: Unable to load native-hadoop library for your platform... using builtin-java classes where applicable\n",
      "24/11/05 03:53:01 WARN Utils: Service 'SparkUI' could not bind on port 4040. Attempting port 4041.\n"
     ]
    }
   ],
   "source": [
    "# SparkSession을 설정합니다.\n",
    "from pyspark.sql import SparkSession\n",
    "\n",
    "# SparkSession 생성\n",
    "# 'Titanic Data Analysis'이라는 애플리케이션 이름으로 Spark 세션을 초기화합니다.\n",
    "# 참고: https://spark.apache.org/docs/latest/api/python/reference/pyspark.sql/api/pyspark.sql.SparkSession.html\n",
    "spark = SparkSession.builder.appName(\"Titanic Data Analysis\").getOrCreate()"
   ]
  },
  {
   "cell_type": "markdown",
   "metadata": {},
   "source": [
    "### 2. 데이터 분석을 위한 Spark SQL 설정"
   ]
  },
  {
   "cell_type": "markdown",
   "metadata": {},
   "source": [
    "#### CSV 파일 읽어 DataFrame 생성"
   ]
  },
  {
   "cell_type": "markdown",
   "metadata": {},
   "source": [
    "### TODO: 아래의 주석과 참고페이지를 기반으로 빈칸을 채워주세요. 타입과 필드를 정의합니다."
   ]
  },
  {
   "cell_type": "code",
   "execution_count": null,
   "metadata": {},
   "outputs": [
    {
     "name": "stdout",
     "output_type": "stream",
     "text": [
      "+-----------+--------------------+--------+----+-------+------+------+-----+\n",
      "|PassengerId|                Name|Survived| Age|   Fare|   Sex|Pclass|Cabin|\n",
      "+-----------+--------------------+--------+----+-------+------+------+-----+\n",
      "|          1|Braund, Mr. Owen ...|       0|22.0|   7.25|  male|     3| null|\n",
      "|          2|Cumings, Mrs. Joh...|       1|38.0|71.2833|female|     1|  C85|\n",
      "|          3|Heikkinen, Miss. ...|       1|26.0|  7.925|female|     3| null|\n",
      "|          4|Futrelle, Mrs. Ja...|       1|35.0|   53.1|female|     1| C123|\n",
      "|          5|Allen, Mr. Willia...|       0|35.0|   8.05|  male|     3| null|\n",
      "|          6|    Moran, Mr. James|       0|null| 8.4583|  male|     3| null|\n",
      "|          7|McCarthy, Mr. Tim...|       0|54.0|51.8625|  male|     1|  E46|\n",
      "|          8|Palsson, Master. ...|       0| 2.0| 21.075|  male|     3| null|\n",
      "|          9|Johnson, Mrs. Osc...|       1|27.0|11.1333|female|     3| null|\n",
      "|         10|Nasser, Mrs. Nich...|       1|14.0|30.0708|female|     2| null|\n",
      "+-----------+--------------------+--------+----+-------+------+------+-----+\n",
      "only showing top 10 rows\n",
      "\n"
     ]
    }
   ],
   "source": [
    "from pyspark.sql import SparkSession\n",
    "from pyspark.sql.types import StructType, StructField, IntegerType, StringType, FloatType\n",
    "\n",
    "# SparkSession 설정\n",
    "# 'Titanic Advanced Analysis'라는 이름의 Spark 세션을 생성합니다.\n",
    "# 참고: https://spark.apache.org/docs/latest/api/python/reference/pyspark.sql/api/pyspark.sql.SparkSession.html\n",
    "spark = SparkSession.builder.appName(\"Titanic Advanced Analysis\").getOrCreate()\n",
    "\n",
    "# 스키마 정의\n",
    "# 데이터 스키마를 명시적으로 정의하여 각 열의 데이터 타입을 지정합니다.\n",
    "# 이 스키마는 CSV 파일을 읽을 때 적용됩니다.\n",
    "schema = ___________([\n",
    "    ___________(\"PassengerId\", ___________(), True),   # 승객 ID (int)\n",
    "    ___________(\"Survived\", ___________(), True),      # 생존 여부 (0 = 사망, 1 = 생존) (int)\n",
    "    ___________(\"Pclass\", ___________(), True),        # 승객 등급 (1, 2, 3) (int)\n",
    "    ___________(\"Name\", ___________(), True),           # 승객 이름 (String)\n",
    "    ___________(\"Sex\", ___________(), True),            # 성별 (String)\n",
    "    ___________(\"Age\", ___________(), True),             # 나이 (float)\n",
    "    ___________(\"SibSp\", ___________(), True),         # 동반한 형제/배우자 수 (int)\n",
    "    ___________(\"Parch\", ___________(), True),         # 동반한 부모/자녀 수 (int)\n",
    "    ___________(\"Ticket\", ___________(), True),         # 티켓 번호 (String)\n",
    "    ___________(\"Fare\", ___________(), True),            # 운임 요금  (float)\n",
    "    ___________(\"Cabin\", ___________(), True),          # 객실 번호 (String)\n",
    "    ___________(\"Embarked\", ___________(), True)        # 탑승 항구 (C = Cherbourg, Q = Queenstown, S = Southampton) (String)\n",
    "])\n",
    "\n",
    "# CSV 파일 읽기\n",
    "# 정의된 스키마와 옵션을 사용하여 CSV 파일을 읽어 DataFrame으로 로드합니다.\n",
    "# header 옵션은 첫 줄을 헤더로 사용할지 여부를 설정하며, delimiter 옵션은 필드 구분자를 지정합니다.\n",
    "# 참고: https://spark.apache.org/docs/latest/api/python/reference/pyspark.sql/api/pyspark.sql.DataFrameReader.csv.html\n",
    "df = spark.read.schema(schema).format(\"csv\")\\\n",
    "    .option(\"header\", \"true\")\\\n",
    "    .option(\"delimiter\", \",\")\\\n",
    "    .load(\"../data/titanic.csv\")\n",
    "\n",
    "# 데이터 출력\n",
    "# show() 메서드를 사용하여 상위 5개 행을 출력하여 데이터를 확인합니다.\n",
    "df.show(5)\n"
   ]
  },
  {
   "cell_type": "markdown",
   "metadata": {},
   "source": [
    "### 3. 데이터 처리를 위한 Spark SQL 활용\n",
    "\n",
    "#### DataFrame 검사 및 요약"
   ]
  },
  {
   "cell_type": "markdown",
   "metadata": {},
   "source": [
    "### TODO: 아래의 주석과 참고페이지를 기반으로 빈칸을 채워주세요. 타입과 필드를 정의합니다."
   ]
  },
  {
   "cell_type": "code",
   "execution_count": null,
   "metadata": {},
   "outputs": [
    {
     "name": "stdout",
     "output_type": "stream",
     "text": [
      "root\n",
      " |-- PassengerId: integer (nullable = true)\n",
      " |-- Name: string (nullable = true)\n",
      " |-- Survived: integer (nullable = true)\n",
      " |-- Age: float (nullable = true)\n",
      " |-- Fare: float (nullable = true)\n",
      " |-- Sex: string (nullable = true)\n",
      " |-- Pclass: integer (nullable = true)\n",
      " |-- Cabin: string (nullable = true)\n",
      "\n",
      "+-------+-----------------+--------------------+-------------------+------------------+-----------------+------+------------------+-----+\n",
      "|summary|      PassengerId|                Name|           Survived|               Age|             Fare|   Sex|            Pclass|Cabin|\n",
      "+-------+-----------------+--------------------+-------------------+------------------+-----------------+------+------------------+-----+\n",
      "|  count|              891|                 891|                891|               714|              891|   891|               891|  204|\n",
      "|   mean|            446.0|                null| 0.3838383838383838| 29.69911764704046|32.20420804114722|  null| 2.308641975308642| null|\n",
      "| stddev|257.3538420152301|                null|0.48659245426485753|14.526497332370992|49.69342916316158|  null|0.8360712409770491| null|\n",
      "|    min|                1|\"Andersson, Mr. A...|                  0|              0.42|              0.0|female|                 1|  A10|\n",
      "|    max|              891|van Melkebeke, Mr...|                  1|              80.0|         512.3292|  male|                 3|    T|\n",
      "+-------+-----------------+--------------------+-------------------+------------------+-----------------+------+------------------+-----+\n",
      "\n"
     ]
    }
   ],
   "source": [
    "# 스키마 출력\n",
    "# 데이터프레임의 스키마를 출력하여 각 열의 데이터 타입을 확인합니다.\n",
    "# 참고: https://spark.apache.org/docs/latest/api/python/reference/pyspark.sql/api/pyspark.sql.DataFrame.printSchema.html\n",
    "df.___________()\n",
    "\n",
    "# 요약 통계\n",
    "# describe() 메서드를 사용하여 숫자형 열에 대한 요약 통계를 계산하고 출력합니다.\n",
    "# 출력되는 요약 통계는 count, mean, stddev, min, max 등의 값입니다.\n",
    "# 참고: https://spark.apache.org/docs/latest/api/python/reference/pyspark.sql/api/pyspark.sql.DataFrame.describe.html\n",
    "df.describe().show()"
   ]
  },
  {
   "cell_type": "markdown",
   "metadata": {},
   "source": [
    "#### 데이터 정렬 및 중복 제거"
   ]
  },
  {
   "cell_type": "code",
   "execution_count": null,
   "metadata": {},
   "outputs": [
    {
     "name": "stdout",
     "output_type": "stream",
     "text": [
      "+-----------+--------------------+--------+----+-------+------+------+-----+\n",
      "|PassengerId|                Name|Survived| Age|   Fare|   Sex|Pclass|Cabin|\n",
      "+-----------+--------------------+--------+----+-------+------+------+-----+\n",
      "|        147|\"Andersson, Mr. A...|       1|27.0| 7.7958|  male|     3| null|\n",
      "|        519|\"Angle, Mrs. Will...|       1|36.0|   26.0|female|     2| null|\n",
      "|        291|\"Barber, Miss. El...|       1|26.0|  78.85|female|     1| null|\n",
      "|        625|\"Bowen, Mr. David...|       0|21.0|   16.1|  male|     3| null|\n",
      "|        508|\"Bradley, Mr. Geo...|       1|null|  26.55|  male|     1| null|\n",
      "|        346|\"Brown, Miss. Ame...|       1|24.0|   13.0|female|     2|  F33|\n",
      "|        209|\"Carr, Miss. Hele...|       1|16.0|   7.75|female|     3| null|\n",
      "|        205|\"Cohen, Mr. Gursh...|       1|18.0|   8.05|  male|     3| null|\n",
      "|        238|\"Collyer, Miss. M...|       1| 8.0|  26.25|female|     2| null|\n",
      "|        490|\"Coutts, Master. ...|       1| 9.0|   15.9|  male|     3| null|\n",
      "|        349|\"Coutts, Master. ...|       1| 3.0|   15.9|  male|     3| null|\n",
      "|        557|\"Duff Gordon, Lad...|       1|48.0|   39.6|female|     1|  A16|\n",
      "|        600|\"Duff Gordon, Sir...|       1|49.0|56.9292|  male|     1|  A20|\n",
      "|        573|\"Flynn, Mr. John ...|       1|36.0|26.3875|  male|     1|  E25|\n",
      "|        437|\"Ford, Miss. Dool...|       0|21.0| 34.375|female|     3| null|\n",
      "|        148|\"Ford, Miss. Robi...|       0| 9.0| 34.375|female|     3| null|\n",
      "|        482|\"Frost, Mr. Antho...|       0|null|    0.0|  male|     2| null|\n",
      "|        157|\"Gilnagh, Miss. K...|       1|16.0| 7.7333|female|     3| null|\n",
      "|        166|\"Goldsmith, Maste...|       1| 9.0| 20.525|  male|     3| null|\n",
      "|        721|\"Harper, Miss. An...|       1| 6.0|   33.0|female|     2| null|\n",
      "+-----------+--------------------+--------+----+-------+------+------+-----+\n",
      "only showing top 20 rows\n",
      "\n",
      "+-----------+--------------------+--------+----+-------+------+------+-----+\n",
      "|PassengerId|                Name|Survived| Age|   Fare|   Sex|Pclass|Cabin|\n",
      "+-----------+--------------------+--------+----+-------+------+------+-----+\n",
      "|        147|\"Andersson, Mr. A...|       1|27.0| 7.7958|  male|     3| null|\n",
      "|        519|\"Angle, Mrs. Will...|       1|36.0|   26.0|female|     2| null|\n",
      "|        291|\"Barber, Miss. El...|       1|26.0|  78.85|female|     1| null|\n",
      "|        625|\"Bowen, Mr. David...|       0|21.0|   16.1|  male|     3| null|\n",
      "|        508|\"Bradley, Mr. Geo...|       1|null|  26.55|  male|     1| null|\n",
      "|        346|\"Brown, Miss. Ame...|       1|24.0|   13.0|female|     2|  F33|\n",
      "|        209|\"Carr, Miss. Hele...|       1|16.0|   7.75|female|     3| null|\n",
      "|        205|\"Cohen, Mr. Gursh...|       1|18.0|   8.05|  male|     3| null|\n",
      "|        238|\"Collyer, Miss. M...|       1| 8.0|  26.25|female|     2| null|\n",
      "|        490|\"Coutts, Master. ...|       1| 9.0|   15.9|  male|     3| null|\n",
      "|        349|\"Coutts, Master. ...|       1| 3.0|   15.9|  male|     3| null|\n",
      "|        557|\"Duff Gordon, Lad...|       1|48.0|   39.6|female|     1|  A16|\n",
      "|        600|\"Duff Gordon, Sir...|       1|49.0|56.9292|  male|     1|  A20|\n",
      "|        573|\"Flynn, Mr. John ...|       1|36.0|26.3875|  male|     1|  E25|\n",
      "|        437|\"Ford, Miss. Dool...|       0|21.0| 34.375|female|     3| null|\n",
      "|        148|\"Ford, Miss. Robi...|       0| 9.0| 34.375|female|     3| null|\n",
      "|        482|\"Frost, Mr. Antho...|       0|null|    0.0|  male|     2| null|\n",
      "|        157|\"Gilnagh, Miss. K...|       1|16.0| 7.7333|female|     3| null|\n",
      "|        166|\"Goldsmith, Maste...|       1| 9.0| 20.525|  male|     3| null|\n",
      "|        721|\"Harper, Miss. An...|       1| 6.0|   33.0|female|     2| null|\n",
      "+-----------+--------------------+--------+----+-------+------+------+-----+\n",
      "only showing top 20 rows\n",
      "\n"
     ]
    }
   ],
   "source": [
    "# 이름을 기준으로 정렬\n",
    "# Name 열을 기준으로 오름차순 정렬하여 데이터를 출력합니다.\n",
    "# 참고: https://spark.apache.org/docs/latest/api/python/reference/pyspark.sql/api/pyspark.sql.DataFrame.sort.html\n",
    "df.___________(\"Name\").show()\n",
    "\n",
    "# 중복된 행 제거\n",
    "# dropDuplicates() 메서드를 사용하여 데이터프레임의 중복된 행을 제거합니다.\n",
    "# 참고: https://spark.apache.org/docs/latest/api/python/reference/pyspark.sql/api/pyspark.sql.DataFrame.dropDuplicates.html\n",
    "unique_df = df.___________()\n",
    "\n",
    "# 중복 제거 후 이름을 기준으로 정렬\n",
    "# 중복이 제거된 데이터프레임을 Name 열 기준으로 오름차순 정렬하여 출력합니다.\n",
    "unique_df.___________(\"Name\").show()"
   ]
  },
  {
   "cell_type": "markdown",
   "metadata": {},
   "source": [
    "#### 필터링 및 조건부 연산"
   ]
  },
  {
   "cell_type": "code",
   "execution_count": null,
   "metadata": {},
   "outputs": [
    {
     "name": "stdout",
     "output_type": "stream",
     "text": [
      "+-----------+--------------------+--------+----+-------+------+------+-----+\n",
      "|PassengerId|                Name|Survived| Age|   Fare|   Sex|Pclass|Cabin|\n",
      "+-----------+--------------------+--------+----+-------+------+------+-----+\n",
      "|        163|Bengtsson, Mr. Jo...|       0|26.0|  7.775|  male|     3| null|\n",
      "|        890|Behr, Mr. Karl Ho...|       1|26.0|   30.0|  male|     1| C148|\n",
      "|         74|Chronopoulos, Mr....|       0|26.0|14.4542|  male|     3| null|\n",
      "|        510|      Lang, Mr. Fang|       1|26.0|56.4958|  male|     3| null|\n",
      "|        313|Lahtinen, Mrs. Wi...|       0|26.0|   26.0|female|     2| null|\n",
      "|        402|     Adams, Mr. John|       0|26.0|   8.05|  male|     3| null|\n",
      "|        871|   Balkic, Mr. Cerin|       0|26.0| 7.8958|  male|     3| null|\n",
      "|        316|Nilsson, Miss. He...|       1|26.0| 7.8542|female|     3| null|\n",
      "|         94|Dean, Mr. Bertram...|       0|26.0| 20.575|  male|     3| null|\n",
      "|        291|\"Barber, Miss. El...|       1|26.0|  78.85|female|     1| null|\n",
      "|        208|Albimona, Mr. Nas...|       1|26.0|18.7875|  male|     3| null|\n",
      "|         70|   Kink, Mr. Vincenz|       0|26.0| 8.6625|  male|     3| null|\n",
      "|        811|Alexander, Mr. Wi...|       0|26.0| 7.8875|  male|     3| null|\n",
      "|        629|Bostandyeff, Mr. ...|       0|26.0| 7.8958|  male|     3| null|\n",
      "|        618|Lobb, Mrs. Willia...|       0|26.0|   16.1|female|     3| null|\n",
      "|          3|Heikkinen, Miss. ...|       1|26.0|  7.925|female|     3| null|\n",
      "|        620| Gavey, Mr. Lawrence|       0|26.0|   10.5|  male|     2| null|\n",
      "|        705|Hansen, Mr. Henri...|       0|26.0| 7.8542|  male|     3| null|\n",
      "|        725|Chambers, Mr. Nor...|       1|27.0|   53.1|  male|     1|   E8|\n",
      "|        682|  Hassab, Mr. Hammad|       1|27.0|76.7292|  male|     1|  D49|\n",
      "+-----------+--------------------+--------+----+-------+------+------+-----+\n",
      "only showing top 20 rows\n",
      "\n",
      "+-----------+--------------------+--------+----+--------+------+------+-----+\n",
      "|PassengerId|                Name|Survived| Age|    Fare|   Sex|Pclass|Cabin|\n",
      "+-----------+--------------------+--------+----+--------+------+------+-----+\n",
      "|          2|Cumings, Mrs. Joh...|       1|38.0| 71.2833|female|     1|  C85|\n",
      "|          3|Heikkinen, Miss. ...|       1|26.0|   7.925|female|     3| null|\n",
      "|          4|Futrelle, Mrs. Ja...|       1|35.0|    53.1|female|     1| C123|\n",
      "|          9|Johnson, Mrs. Osc...|       1|27.0| 11.1333|female|     3| null|\n",
      "|         10|Nasser, Mrs. Nich...|       1|14.0| 30.0708|female|     2| null|\n",
      "|         11|Sandstrom, Miss. ...|       1| 4.0|    16.7|female|     3|   G6|\n",
      "|         12|Bonnell, Miss. El...|       1|58.0|   26.55|female|     1| C103|\n",
      "|         15|Vestrom, Miss. Hu...|       0|14.0|  7.8542|female|     3| null|\n",
      "|         16|Hewlett, Mrs. (Ma...|       1|55.0|    16.0|female|     2| null|\n",
      "|         19|Vander Planke, Mr...|       0|31.0|    18.0|female|     3| null|\n",
      "|         20|Masselmani, Mrs. ...|       1|null|   7.225|female|     3| null|\n",
      "|         23|\"McGowan, Miss. A...|       1|15.0|  8.0292|female|     3| null|\n",
      "|         25|Palsson, Miss. To...|       0| 8.0|  21.075|female|     3| null|\n",
      "|         26|Asplund, Mrs. Car...|       1|38.0| 31.3875|female|     3| null|\n",
      "|         29|\"O'Dwyer, Miss. E...|       1|null|  7.8792|female|     3| null|\n",
      "|         32|Spencer, Mrs. Wil...|       1|null|146.5208|female|     1|  B78|\n",
      "|         33|Glynn, Miss. Mary...|       1|null|    7.75|female|     3| null|\n",
      "|         39|Vander Planke, Mi...|       0|18.0|    18.0|female|     3| null|\n",
      "|         40|Nicola-Yarred, Mi...|       1|14.0| 11.2417|female|     3| null|\n",
      "|         41|Ahlin, Mrs. Johan...|       0|40.0|   9.475|female|     3| null|\n",
      "+-----------+--------------------+--------+----+--------+------+------+-----+\n",
      "only showing top 20 rows\n",
      "\n",
      "+-----------+--------------------+--------+----+--------+------+------+-----------+\n",
      "|PassengerId|                Name|Survived| Age|    Fare|   Sex|Pclass|      Cabin|\n",
      "+-----------+--------------------+--------+----+--------+------+------+-----------+\n",
      "|          2|Cumings, Mrs. Joh...|       1|38.0| 71.2833|female|     1|        C85|\n",
      "|          4|Futrelle, Mrs. Ja...|       1|35.0|    53.1|female|     1|       C123|\n",
      "|          7|McCarthy, Mr. Tim...|       0|54.0| 51.8625|  male|     1|        E46|\n",
      "|         12|Bonnell, Miss. El...|       1|58.0|   26.55|female|     1|       C103|\n",
      "|         24|Sloper, Mr. Willi...|       1|28.0|    35.5|  male|     1|         A6|\n",
      "|         28|Fortune, Mr. Char...|       0|19.0|   263.0|  male|     1|C23 C25 C27|\n",
      "|         31|Uruchurtu, Don. M...|       0|40.0| 27.7208|  male|     1|       null|\n",
      "|         32|Spencer, Mrs. Wil...|       1|null|146.5208|female|     1|        B78|\n",
      "|         35|Meyer, Mr. Edgar ...|       0|28.0| 82.1708|  male|     1|       null|\n",
      "|         36|Holverson, Mr. Al...|       0|42.0|    52.0|  male|     1|       null|\n",
      "|         53|Harper, Mrs. Henr...|       1|49.0| 76.7292|female|     1|        D33|\n",
      "|         55|Ostby, Mr. Engelh...|       0|65.0| 61.9792|  male|     1|        B30|\n",
      "|         56|   Woolner, Mr. Hugh|       1|null|    35.5|  male|     1|        C52|\n",
      "|         62| Icard, Miss. Amelie|       1|38.0|    80.0|female|     1|        B28|\n",
      "|         63|Harris, Mr. Henry...|       0|45.0|  83.475|  male|     1|        C83|\n",
      "|         65|Stewart, Mr. Albe...|       0|null| 27.7208|  male|     1|       null|\n",
      "|         84|Carrau, Mr. Franc...|       0|28.0|    47.1|  male|     1|       null|\n",
      "|         89|Fortune, Miss. Ma...|       1|23.0|   263.0|female|     1|C23 C25 C27|\n",
      "|         93|Chaffee, Mr. Herb...|       0|46.0|  61.175|  male|     1|        E31|\n",
      "|         97|Goldschmidt, Mr. ...|       0|71.0| 34.6542|  male|     1|         A5|\n",
      "+-----------+--------------------+--------+----+--------+------+------+-----------+\n",
      "only showing top 20 rows\n",
      "\n"
     ]
    }
   ],
   "source": [
    "# 특정 조건을 기준으로 데이터를 필터링합니다.\n",
    "# filter() 메서드를 사용하여 나이가 25세 이상인 승객만을 필터링합니다.\n",
    "# 참고: https://spark.apache.org/docs/latest/api/python/reference/pyspark.sql/api/pyspark.sql.DataFrame.filter.html\n",
    "filtered_df = unique_df.___________(unique_df[\"Age\"] > 25)  # 나이가 25세 이상인 승객만 필터링합니다.\n",
    "\n",
    "# 나이를 기준으로 정렬하여 출력\n",
    "# Age 열을 기준으로 오름차순 정렬하여 필터링된 결과를 출력합니다.\n",
    "filtered_df.sort(\"Age\").show()\n",
    "\n",
    "# 정규식 및 특정 값 조건\n",
    "# 조건에 따라 특정 열의 값이 일치하는 행을 필터링하여 출력합니다.\n",
    "\n",
    "# 성별이 여자인 승객만 필터링\n",
    "# Sex 열이 \"female\"인 승객을 필터링합니다.\n",
    "df[df[\"Sex\"] == \"female\"].show()\n",
    "\n",
    "# 1등급 객실에 탄 승객만 필터링\n",
    "# Pclass 열이 1인 승객을 필터링합니다.\n",
    "df[df[\"Pclass\"] == 1].show()"
   ]
  },
  {
   "cell_type": "markdown",
   "metadata": {},
   "source": [
    "#### 그룹화 및 집계"
   ]
  },
  {
   "cell_type": "code",
   "execution_count": null,
   "metadata": {},
   "outputs": [
    {
     "name": "stdout",
     "output_type": "stream",
     "text": [
      "+------+-----+\n",
      "|Pclass|count|\n",
      "+------+-----+\n",
      "|     1|  144|\n",
      "|     2|  108|\n",
      "|     3|  161|\n",
      "+------+-----+\n",
      "\n"
     ]
    }
   ],
   "source": [
    "import pyspark.sql.functions as sf\n",
    "\n",
    "# 그룹화 및 집계: 객실 등급별 승객 수를 계산합니다.\n",
    "# groupby()와 agg()를 사용하여 Pclass 열로 그룹화한 뒤, 각 그룹의 행 수를 count로 계산하여 출력합니다.\n",
    "# 참고: https://spark.apache.org/docs/latest/api/python/reference/pyspark.sql/api/pyspark.sql.DataFrame.groupBy.html\n",
    "df_group = filtered_df.___________('Pclass').___________(sf.count('*').alias('count')).sort('Pclass')\n",
    "\n",
    "# 등급별 그룹화 후 카운트를 표시\n",
    "df_group.show()"
   ]
  },
  {
   "cell_type": "markdown",
   "metadata": {
    "id": "Gu9VnRYUcLye"
   },
   "source": [
    "### 4. 데이터 처리를 위한 SQL 쿼리 최적화"
   ]
  },
  {
   "cell_type": "markdown",
   "metadata": {},
   "source": [
    "### TODO: 아래의 주석과 참고페이지를 기반으로 빈칸을 채워주세요."
   ]
  },
  {
   "cell_type": "code",
   "execution_count": null,
   "metadata": {
    "id": "nGDsUH2_cLyf"
   },
   "outputs": [
    {
     "name": "stdout",
     "output_type": "stream",
     "text": [
      "+------+------------------+\n",
      "|Pclass|          avg(Age)|\n",
      "+------+------------------+\n",
      "|     1| 38.23344086030478|\n",
      "|     3| 25.14061971827292|\n",
      "|     2|29.877630057706998|\n",
      "+------+------------------+\n",
      "\n"
     ]
    }
   ],
   "source": [
    "# DataFrame을 SQL 테이블로 등록합니다.\n",
    "# createOrReplaceTempView() 메서드를 사용하여 DataFrame을 SQL 테이블로 등록하고, SQL 쿼리를 통해 접근할 수 있습니다.\n",
    "# 참고: https://spark.apache.org/docs/latest/api/python/reference/pyspark.sql/api/pyspark.sql.DataFrame.createOrReplaceTempView.html\n",
    "df.____________________(\"titanic\")\n",
    "\n",
    "# SQL 쿼리를 직접 실행하여 데이터 분석을 수행합니다.\n",
    "# 객실 등급(Pclass)별 평균 나이를 계산합니다. NULL 값을 제외한 Age 열의 평균을 구하고, Pclass별로 그룹화하여 출력합니다.\n",
    "# 참고: https://spark.apache.org/docs/latest/api/python/reference/pyspark.sql/api/pyspark.sql.SparkSession.sql.html\n",
    "spark.sql(\"SELECT Pclass, AVG(Age) FROM titanic WHERE Age IS NOT NULL GROUP BY Pclass\").show()\n"
   ]
  },
  {
   "cell_type": "markdown",
   "metadata": {
    "id": "uPVYaBZQcLyf"
   },
   "source": [
    "#### 열 추가, 업데이트 및 제거"
   ]
  },
  {
   "cell_type": "code",
   "execution_count": null,
   "metadata": {
    "id": "-x_9MHN1cLyg"
   },
   "outputs": [
    {
     "name": "stdout",
     "output_type": "stream",
     "text": [
      "+-----------+--------------------+--------+----+-------+------+------+-----+-------+\n",
      "|PassengerId|                Name|Survived| Age|   Fare|   Sex|Pclass|Cabin|Initial|\n",
      "+-----------+--------------------+--------+----+-------+------+------+-----+-------+\n",
      "|          1|Braund, Mr. Owen ...|       0|22.0|   7.25|  male|     3| null|      B|\n",
      "|          2|Cumings, Mrs. Joh...|       1|38.0|71.2833|female|     1|  C85|      C|\n",
      "|          3|Heikkinen, Miss. ...|       1|26.0|  7.925|female|     3| null|      H|\n",
      "|          4|Futrelle, Mrs. Ja...|       1|35.0|   53.1|female|     1| C123|      F|\n",
      "|          5|Allen, Mr. Willia...|       0|35.0|   8.05|  male|     3| null|      A|\n",
      "|          6|    Moran, Mr. James|       0|null| 8.4583|  male|     3| null|      M|\n",
      "|          7|McCarthy, Mr. Tim...|       0|54.0|51.8625|  male|     1|  E46|      M|\n",
      "|          8|Palsson, Master. ...|       0| 2.0| 21.075|  male|     3| null|      P|\n",
      "|          9|Johnson, Mrs. Osc...|       1|27.0|11.1333|female|     3| null|      J|\n",
      "|         10|Nasser, Mrs. Nich...|       1|14.0|30.0708|female|     2| null|      N|\n",
      "|         11|Sandstrom, Miss. ...|       1| 4.0|   16.7|female|     3|   G6|      S|\n",
      "|         12|Bonnell, Miss. El...|       1|58.0|  26.55|female|     1| C103|      B|\n",
      "|         13|Saundercock, Mr. ...|       0|20.0|   8.05|  male|     3| null|      S|\n",
      "|         14|Andersson, Mr. An...|       0|39.0| 31.275|  male|     3| null|      A|\n",
      "|         15|Vestrom, Miss. Hu...|       0|14.0| 7.8542|female|     3| null|      V|\n",
      "|         16|Hewlett, Mrs. (Ma...|       1|55.0|   16.0|female|     2| null|      H|\n",
      "|         17|Rice, Master. Eugene|       0| 2.0| 29.125|  male|     3| null|      R|\n",
      "|         18|Williams, Mr. Cha...|       1|null|   13.0|  male|     2| null|      W|\n",
      "|         19|Vander Planke, Mr...|       0|31.0|   18.0|female|     3| null|      V|\n",
      "|         20|Masselmani, Mrs. ...|       1|null|  7.225|female|     3| null|      M|\n",
      "+-----------+--------------------+--------+----+-------+------+------+-----+-------+\n",
      "only showing top 20 rows\n",
      "\n",
      "+-----------+--------------------+--------+----+-------+------+------+-----+--------------+\n",
      "|PassengerId|                Name|Survived| Age|   Fare|   Sex|Pclass|Cabin|Initial_Letter|\n",
      "+-----------+--------------------+--------+----+-------+------+------+-----+--------------+\n",
      "|          1|Braund, Mr. Owen ...|       0|22.0|   7.25|  male|     3| null|             B|\n",
      "|          2|Cumings, Mrs. Joh...|       1|38.0|71.2833|female|     1|  C85|             C|\n",
      "|          3|Heikkinen, Miss. ...|       1|26.0|  7.925|female|     3| null|             H|\n",
      "|          4|Futrelle, Mrs. Ja...|       1|35.0|   53.1|female|     1| C123|             F|\n",
      "|          5|Allen, Mr. Willia...|       0|35.0|   8.05|  male|     3| null|             A|\n",
      "|          6|    Moran, Mr. James|       0|null| 8.4583|  male|     3| null|             M|\n",
      "|          7|McCarthy, Mr. Tim...|       0|54.0|51.8625|  male|     1|  E46|             M|\n",
      "|          8|Palsson, Master. ...|       0| 2.0| 21.075|  male|     3| null|             P|\n",
      "|          9|Johnson, Mrs. Osc...|       1|27.0|11.1333|female|     3| null|             J|\n",
      "|         10|Nasser, Mrs. Nich...|       1|14.0|30.0708|female|     2| null|             N|\n",
      "|         11|Sandstrom, Miss. ...|       1| 4.0|   16.7|female|     3|   G6|             S|\n",
      "|         12|Bonnell, Miss. El...|       1|58.0|  26.55|female|     1| C103|             B|\n",
      "|         13|Saundercock, Mr. ...|       0|20.0|   8.05|  male|     3| null|             S|\n",
      "|         14|Andersson, Mr. An...|       0|39.0| 31.275|  male|     3| null|             A|\n",
      "|         15|Vestrom, Miss. Hu...|       0|14.0| 7.8542|female|     3| null|             V|\n",
      "|         16|Hewlett, Mrs. (Ma...|       1|55.0|   16.0|female|     2| null|             H|\n",
      "|         17|Rice, Master. Eugene|       0| 2.0| 29.125|  male|     3| null|             R|\n",
      "|         18|Williams, Mr. Cha...|       1|null|   13.0|  male|     2| null|             W|\n",
      "|         19|Vander Planke, Mr...|       0|31.0|   18.0|female|     3| null|             V|\n",
      "|         20|Masselmani, Mrs. ...|       1|null|  7.225|female|     3| null|             M|\n",
      "+-----------+--------------------+--------+----+-------+------+------+-----+--------------+\n",
      "only showing top 20 rows\n",
      "\n",
      "+-----------+--------------------+--------+----+-------+------+------+--------------+\n",
      "|PassengerId|                Name|Survived| Age|   Fare|   Sex|Pclass|Initial_Letter|\n",
      "+-----------+--------------------+--------+----+-------+------+------+--------------+\n",
      "|          1|Braund, Mr. Owen ...|       0|22.0|   7.25|  male|     3|             B|\n",
      "|          2|Cumings, Mrs. Joh...|       1|38.0|71.2833|female|     1|             C|\n",
      "|          3|Heikkinen, Miss. ...|       1|26.0|  7.925|female|     3|             H|\n",
      "|          4|Futrelle, Mrs. Ja...|       1|35.0|   53.1|female|     1|             F|\n",
      "|          5|Allen, Mr. Willia...|       0|35.0|   8.05|  male|     3|             A|\n",
      "|          6|    Moran, Mr. James|       0|null| 8.4583|  male|     3|             M|\n",
      "|          7|McCarthy, Mr. Tim...|       0|54.0|51.8625|  male|     1|             M|\n",
      "|          8|Palsson, Master. ...|       0| 2.0| 21.075|  male|     3|             P|\n",
      "|          9|Johnson, Mrs. Osc...|       1|27.0|11.1333|female|     3|             J|\n",
      "|         10|Nasser, Mrs. Nich...|       1|14.0|30.0708|female|     2|             N|\n",
      "|         11|Sandstrom, Miss. ...|       1| 4.0|   16.7|female|     3|             S|\n",
      "|         12|Bonnell, Miss. El...|       1|58.0|  26.55|female|     1|             B|\n",
      "|         13|Saundercock, Mr. ...|       0|20.0|   8.05|  male|     3|             S|\n",
      "|         14|Andersson, Mr. An...|       0|39.0| 31.275|  male|     3|             A|\n",
      "|         15|Vestrom, Miss. Hu...|       0|14.0| 7.8542|female|     3|             V|\n",
      "|         16|Hewlett, Mrs. (Ma...|       1|55.0|   16.0|female|     2|             H|\n",
      "|         17|Rice, Master. Eugene|       0| 2.0| 29.125|  male|     3|             R|\n",
      "|         18|Williams, Mr. Cha...|       1|null|   13.0|  male|     2|             W|\n",
      "|         19|Vander Planke, Mr...|       0|31.0|   18.0|female|     3|             V|\n",
      "|         20|Masselmani, Mrs. ...|       1|null|  7.225|female|     3|             M|\n",
      "+-----------+--------------------+--------+----+-------+------+------+--------------+\n",
      "only showing top 20 rows\n",
      "\n"
     ]
    }
   ],
   "source": [
    "# 열 추가\n",
    "# withColumn() 메서드를 사용하여 \"Name\" 열의 첫 글자를 추출하여 새로운 \"Initial\" 열로 추가합니다.\n",
    "# 참고: https://spark.apache.org/docs/latest/api/python/reference/pyspark.sql/api/pyspark.sql.DataFrame.withColumn.html\n",
    "df_sub = df.____________________(\"Initial\", df[\"Name\"].substr(0, 1))  # 이름의 첫 글자를 추가합니다.\n",
    "df_sub.show()\n",
    "\n",
    "# 열 이름 변경\n",
    "# withColumnRenamed() 메서드를 사용하여 \"Initial\" 열의 이름을 \"Initial_Letter\"로 변경합니다.\n",
    "# 참고: https://spark.apache.org/docs/latest/api/python/reference/pyspark.sql/api/pyspark.sql.DataFrame.withColumnRenamed.html\n",
    "df_initial = df_sub.____________________(\"Initial\", \"Initial_Letter\")\n",
    "df_initial.show()\n",
    "\n",
    "# 열 제거\n",
    "# drop() 메서드를 사용하여 \"Cabin\" 열을 제거합니다.\n",
    "# 참고: https://spark.apache.org/docs/latest/api/python/reference/pyspark.sql/api/pyspark.sql.DataFrame.drop.html\n",
    "df_drop = df_initial.____________________(\"Cabin\")\n",
    "df_drop.show()"
   ]
  },
  {
   "cell_type": "markdown",
   "metadata": {
    "id": "xXSwOTBEcLyg"
   },
   "source": [
    "#### DataFrame을 다른 데이터 구조로 변환 및 출력"
   ]
  },
  {
   "cell_type": "code",
   "execution_count": 31,
   "metadata": {
    "id": "4WGwab-ycLyg"
   },
   "outputs": [
    {
     "name": "stdout",
     "output_type": "stream",
     "text": [
      "[Row(PassengerId=1, Name='Braund, Mr. Owen Harris', Survived=0, Age=22.0, Fare=7.25, Sex='male', Pclass=3, Cabin=None, Initial_Letter='B'), Row(PassengerId=2, Name='Cumings, Mrs. John Bradley (Florence Briggs Thayer)', Survived=1, Age=38.0, Fare=71.2833023071289, Sex='female', Pclass=1, Cabin='C85', Initial_Letter='C'), Row(PassengerId=3, Name='Heikkinen, Miss. Laina', Survived=1, Age=26.0, Fare=7.925000190734863, Sex='female', Pclass=3, Cabin=None, Initial_Letter='H'), Row(PassengerId=4, Name='Futrelle, Mrs. Jacques Heath (Lily May Peel)', Survived=1, Age=35.0, Fare=53.099998474121094, Sex='female', Pclass=1, Cabin='C123', Initial_Letter='F'), Row(PassengerId=5, Name='Allen, Mr. William Henry', Survived=0, Age=35.0, Fare=8.050000190734863, Sex='male', Pclass=3, Cabin=None, Initial_Letter='A'), Row(PassengerId=6, Name='Moran, Mr. James', Survived=0, Age=None, Fare=8.45829963684082, Sex='male', Pclass=3, Cabin=None, Initial_Letter='M'), Row(PassengerId=7, Name='McCarthy, Mr. Timothy J', Survived=0, Age=54.0, Fare=51.86249923706055, Sex='male', Pclass=1, Cabin='E46', Initial_Letter='M'), Row(PassengerId=8, Name='Palsson, Master. Gosta Leonard', Survived=0, Age=2.0, Fare=21.075000762939453, Sex='male', Pclass=3, Cabin=None, Initial_Letter='P'), Row(PassengerId=9, Name='Johnson, Mrs. Oscar W (Elisabeth Vilhelmina Berg)', Survived=1, Age=27.0, Fare=11.133299827575684, Sex='female', Pclass=3, Cabin=None, Initial_Letter='J'), Row(PassengerId=10, Name='Nasser, Mrs. Nicholas (Adele Achem)', Survived=1, Age=14.0, Fare=30.07080078125, Sex='female', Pclass=2, Cabin=None, Initial_Letter='N')]\n",
      "{\"PassengerId\":1,\"Name\":\"Braund, Mr. Owen Harris\",\"Survived\":0,\"Age\":22.0,\"Fare\":7.25,\"Sex\":\"male\",\"Pclass\":3,\"Initial_Letter\":\"B\"}\n",
      "     PassengerId                                               Name  Survived  \\\n",
      "0              1                            Braund, Mr. Owen Harris         0   \n",
      "1              2  Cumings, Mrs. John Bradley (Florence Briggs Th...         1   \n",
      "2              3                             Heikkinen, Miss. Laina         1   \n",
      "3              4       Futrelle, Mrs. Jacques Heath (Lily May Peel)         1   \n",
      "4              5                           Allen, Mr. William Henry         0   \n",
      "..           ...                                                ...       ...   \n",
      "886          887                              Montvila, Rev. Juozas         0   \n",
      "887          888                       Graham, Miss. Margaret Edith         1   \n",
      "888          889       \"Johnston, Miss. Catherine Helen \"\"Carrie\"\"\"         0   \n",
      "889          890                              Behr, Mr. Karl Howell         1   \n",
      "890          891                                Dooley, Mr. Patrick         0   \n",
      "\n",
      "      Age       Fare     Sex  Pclass Cabin Initial_Letter  \n",
      "0    22.0   7.250000    male       3  None              B  \n",
      "1    38.0  71.283302  female       1   C85              C  \n",
      "2    26.0   7.925000  female       3  None              H  \n",
      "3    35.0  53.099998  female       1  C123              F  \n",
      "4    35.0   8.050000    male       3  None              A  \n",
      "..    ...        ...     ...     ...   ...            ...  \n",
      "886  27.0  13.000000    male       2  None              M  \n",
      "887  19.0  30.000000  female       1   B42              G  \n",
      "888   NaN  23.450001  female       3  None              \"  \n",
      "889  26.0  30.000000    male       1  C148              B  \n",
      "890  32.0   7.750000    male       3  None              D  \n",
      "\n",
      "[891 rows x 9 columns]\n"
     ]
    }
   ],
   "source": [
    "# RDD로 변환\n",
    "# DataFrame의 데이터를 RDD로 변환하여 RDD 연산을 수행할 수 있습니다.\n",
    "# 참고: https://spark.apache.org/docs/latest/api/python/reference/pyspark.sql/api/pyspark.sql.DataFrame.rdd.html\n",
    "rdd_out = df_initial.rdd\n",
    "print(rdd_out.collect()[:10])  # 상위 10개의 RDD 요소를 출력합니다.\n",
    "\n",
    "# Pandas DataFrame으로 변환\n",
    "# toPandas() 메서드를 사용하여 Spark DataFrame을 Pandas DataFrame으로 변환합니다.\n",
    "# 참고: https://spark.apache.org/docs/latest/api/python/reference/pyspark.sql/api/pyspark.sql.DataFrame.toPandas.html\n",
    "pandas_out = df_initial.toPandas()\n",
    "print(pandas_out)  # Pandas DataFrame을 출력합니다."
   ]
  },
  {
   "cell_type": "markdown",
   "metadata": {
    "id": "TfxRS33ocLyh"
   },
   "source": [
    "#### SparkSession 중지"
   ]
  },
  {
   "cell_type": "code",
   "execution_count": null,
   "metadata": {
    "id": "xBo_7uKZcLyh"
   },
   "outputs": [],
   "source": [
    "spark.stop()  # Spark 세션을 중지합니다."
   ]
  }
 ],
 "metadata": {
  "colab": {
   "provenance": []
  },
  "kernelspec": {
   "display_name": "Python 3",
   "name": "python3"
  },
  "language_info": {
   "codemirror_mode": {
    "name": "ipython",
    "version": 3
   },
   "file_extension": ".py",
   "mimetype": "text/x-python",
   "name": "python",
   "nbconvert_exporter": "python",
   "pygments_lexer": "ipython3",
   "version": "3.10.13"
  }
 },
 "nbformat": 4,
 "nbformat_minor": 0
}
