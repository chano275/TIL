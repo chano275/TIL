{
 "cells": [
  {
   "cell_type": "markdown",
   "metadata": {},
   "source": [
    "# 대출 신용정보 평가 (분류, 회귀)"
   ]
  },
  {
   "cell_type": "markdown",
   "metadata": {},
   "source": [
    "대출 신용정보 평가를 위해 분류와 회귀 모델을 모두 사용하는 실습 코드를 준비했습니다. Kaggle에서 유명하고 풍부한 데이터셋인 \"Loan Prediction Problem\" 데이터셋을 사용하겠습니다.\n",
    "\n",
    "데이터셋 링크: https://www.kaggle.com/altruistdelhite04/loan-prediction-problem-dataset\n",
    "\n",
    "대출 상태를 분류하고\n",
    "대출 금액을 회귀분석 하는 실습입니다. "
   ]
  },
  {
   "cell_type": "markdown",
   "metadata": {},
   "source": [
    "### 01. 데이터 불러오기"
   ]
  },
  {
   "cell_type": "code",
   "execution_count": null,
   "metadata": {},
   "outputs": [],
   "source": [
    "import pandas as pd\n",
    "from sklearn.model_selection import train_test_split\n",
    "from sklearn.preprocessing import LabelEncoder\n",
    "from sklearn.linear_model import LogisticRegression, LinearRegression\n",
    "from sklearn.ensemble import RandomForestClassifier\n",
    "from sklearn.metrics import classification_report, confusion_matrix, accuracy_score\n",
    "from sklearn.metrics import mean_squared_error, r2_score\n",
    "import matplotlib.pyplot as plt\n",
    "import seaborn as sns\n",
    "import warnings\n",
    "warnings.filterwarnings(\"ignore\")\n",
    "\n",
    "# 데이터 로드\n",
    "data = pd.read_csv('credit.csv')\n"
   ]
  },
  {
   "cell_type": "markdown",
   "metadata": {},
   "source": [
    "### 02. 데이터 전처리"
   ]
  },
  {
   "cell_type": "code",
   "execution_count": null,
   "metadata": {},
   "outputs": [],
   "source": [
    "# 필요한 열 선택\n",
    "data = data[[ 'Gender', 'Married', 'Dependents', 'Education', 'Self_Employed', 'ApplicantIncome', 'CoapplicantIncome', 'LoanAmount', 'Loan_Amount_Term', 'Credit_History', 'Property_Area', 'Loan_Status']]\n",
    "\n",
    "# 결측값 처리\n",
    "data['Gender'].fillna(data['Gender'].mode()[0], inplace=True)\n",
    "data['Married'].fillna(data['Married'].mode()[0], inplace=True)\n",
    "data['Dependents'].fillna(data['Dependents'].mode()[0], inplace=True)\n",
    "data['Self_Employed'].fillna(data['Self_Employed'].mode()[0], inplace=True)\n",
    "data['LoanAmount'].fillna(data['LoanAmount'].median(), inplace=True)\n",
    "data['Loan_Amount_Term'].fillna(data['Loan_Amount_Term'].mode()[0], inplace=True)\n",
    "data['Credit_History'].fillna(data['Credit_History'].mode()[0], inplace=True)\n",
    "\n",
    "# 카테고리형 변수를 숫자로 매핑\n",
    "le = LabelEncoder()\n",
    "for col in ['Gender', 'Married', 'Dependents', 'Education', 'Self_Employed', 'Property_Area', 'Loan_Status']:\n",
    "    data[col] = le.fit_transform(data[col])\n",
    "\n",
    "# 특성과 타겟 분리\n",
    "X = data.drop(['LoanAmount', 'Loan_Status'], axis=1)\n",
    "y_class = data['Loan_Status']\n",
    "y_reg = data['LoanAmount']\n",
    "\n",
    "# 훈련 데이터와 검증 데이터 분리\n",
    "X_train, X_test, y_class_train, y_class_test, y_reg_train, y_reg_test = train_test_split(X, y_class, y_reg, test_size=0.2, random_state=42)"
   ]
  },
  {
   "cell_type": "markdown",
   "metadata": {},
   "source": [
    "### 03. 데이터 시각화"
   ]
  },
  {
   "cell_type": "code",
   "execution_count": null,
   "metadata": {},
   "outputs": [],
   "source": [
    "# 한글 폰트 설정\n",
    "!sudo apt-get install -y fonts-nanum\n",
    "!sudo fc-cache -fv\n",
    "!rm ~/.cache/matplotlib -rf\n",
    "\n",
    "import matplotlib.pyplot as plt\n",
    "plt.rc('font', family='NanumBarunGothic')"
   ]
  },
  {
   "cell_type": "code",
   "execution_count": null,
   "metadata": {},
   "outputs": [],
   "source": [
    "sampled_data = data.sample(frac=0.1, random_state=42)  # 데이터의 10%를 무작위로 샘플링\n",
    "\n",
    "def plot_credit_history_vs_loan_status_sampled(data):\n",
    "    # Credit History와 Loan Status 간의 관계를 빈도 수로 시각화하는 함수\n",
    "    plt.figure(figsize=(10, 7))\n",
    "    sns.countplot(x='Credit_History', hue='Loan_Status', data=data, palette='coolwarm')\n",
    "    plt.title('Credit History와 Loan Status의 관계')\n",
    "    plt.xlabel('Credit History')\n",
    "    plt.ylabel('Count')\n",
    "    plt.show()\n",
    "\n",
    "def plot_property_area_vs_loan_status_sampled(data):\n",
    "    # Property Area와 Loan Status 간의 관계를 빈도 수로 시각화하는 함수\n",
    "    plt.figure(figsize=(10, 7))\n",
    "    sns.countplot(x='Property_Area', hue='Loan_Status', data=data, palette='coolwarm')\n",
    "    plt.title('Property Area와 Loan Status의 관계')\n",
    "    plt.xlabel('Property Area')\n",
    "    plt.ylabel('Count')\n",
    "    plt.show()\n",
    "\n",
    "def plot_income_vs_loan_amount_sampled(data):\n",
    "    # Applicant Income과 Loan Amount의 관계를 Loan Status에 따라 시각화하는 함수\n",
    "    plt.figure(figsize=(10, 7))\n",
    "    sns.scatterplot(x='ApplicantIncome', y='LoanAmount', hue='Loan_Status', data=data, palette='coolwarm', alpha=0.6)\n",
    "    plt.title('Applicant Income과 Loan Amount의 관계 (Loan Status에 따라)')\n",
    "    plt.xlabel('Applicant Income')\n",
    "    plt.ylabel('Loan Amount')\n",
    "    plt.show()\n",
    "\n",
    "def plot_loan_amount_distribution_sampled(data):\n",
    "    # Loan Amount의 분포를 히스토그램과 커널 밀도 추정으로 시각화하는 함수\n",
    "    plt.figure(figsize=(10, 7))\n",
    "    sns.histplot(data['LoanAmount'].dropna(), kde=True, color='purple')\n",
    "    plt.title('Loan Amount의 분포')\n",
    "    plt.xlabel('Loan Amount')\n",
    "    plt.ylabel('Frequency')\n",
    "    plt.show()\n",
    "\n",
    "# 각 시각화 함수 실행\n",
    "plot_credit_history_vs_loan_status_sampled(sampled_data)  # Credit History와 Loan Status 관계 그래프 실행\n",
    "plot_property_area_vs_loan_status_sampled(sampled_data)  # Property Area와 Loan Status 관계 그래프 실행\n",
    "plot_income_vs_loan_amount_sampled(sampled_data)  # Applicant Income과 Loan Amount 관계 그래프 실행\n",
    "plot_loan_amount_distribution_sampled(sampled_data)  # Loan Amount의 분포 그래프 실행\n"
   ]
  },
  {
   "cell_type": "markdown",
   "metadata": {},
   "source": [
    "### 04. 분류 머신러닝 모델 학습 및 평가"
   ]
  },
  {
   "cell_type": "code",
   "execution_count": null,
   "metadata": {},
   "outputs": [],
   "source": [
    "# 분류 모델 학습 및 예측\n",
    "# LogisticRegression 모델 초기화\n",
    "lr_model = LogisticRegression()\n",
    "\n",
    "# lr_model 학습\n",
    "lr_model.fit(X_train, y_class_train)\n",
    "\n",
    "# lr_model 예측\n",
    "y_class_pred = lr_model.predict(X_test)\n",
    "\n",
    "# RandomForestClassifier 모델 초기화\n",
    "rf_model = RandomForestClassifier()\n",
    "\n",
    "# rf_model 학습\n",
    "rf_model.fit(X_train, y_class_train)\n",
    "\n",
    "# rf_model 예측\n",
    "y_class_pred_rf = rf_model.predict(X_test)\n",
    "\n",
    "# 분류 모델 평가\n",
    "print(\"Logistic Regression Classification Report:\")\n",
    "# 분류 보고서 출력\n",
    "print(classification_report(y_class_test, y_class_pred))\n",
    "\n",
    "print(\"Confusion Matrix:\")\n",
    "# 혼동 행렬 출력\n",
    "print(confusion_matrix(y_class_test, y_class_pred))\n",
    "\n",
    "print(\"Accuracy Score:\")\n",
    "# 정확도 점수 계산 및 출력\n",
    "print(accuracy_score(y_class_test, y_class_pred))\n",
    "\n",
    "print(\"\\nRandom Forest Classification Report:\")\n",
    "# Random Forest 분류 보고서 출력\n",
    "print(classification_report(y_class_test, y_class_pred_rf))\n",
    "\n",
    "print(\"Confusion Matrix:\")\n",
    "# Random Forest 혼동 행렬 출력\n",
    "print(confusion_matrix(y_class_test, y_class_pred_rf))\n",
    "\n",
    "print(\"Accuracy Score:\")\n",
    "# Random Forest 정확도 점수 계산 및 출력\n",
    "print(accuracy_score(y_class_test, y_class_pred_rf))"
   ]
  },
  {
   "cell_type": "code",
   "execution_count": null,
   "metadata": {},
   "outputs": [],
   "source": [
    "# Feature Importance 계산 및 시각화\n",
    "feature_importances = rf_model.feature_importances_\n",
    "feature_names = X.columns\n",
    "\n",
    "# Feature Importance를 데이터프레임으로 변환\n",
    "feature_importance_df = pd.DataFrame({'Feature': feature_names, 'Importance': feature_importances})\n",
    "feature_importance_df = feature_importance_df.sort_values(by='Importance', ascending=False)\n",
    "\n",
    "# Feature Importance 시각화\n",
    "plt.figure(figsize=(10, 6))\n",
    "sns.barplot(x='Importance', y='Feature', data=feature_importance_df)\n",
    "plt.title('Feature Importance')\n",
    "plt.xlabel('Importance')\n",
    "plt.ylabel('Feature')\n",
    "plt.show()"
   ]
  },
  {
   "cell_type": "markdown",
   "metadata": {},
   "source": [
    "### 05. 회귀 머신러닝 모델 학습 및 평가"
   ]
  },
  {
   "cell_type": "code",
   "execution_count": null,
   "metadata": {},
   "outputs": [],
   "source": [
    "# 회귀 모델 학습 및 예측\n",
    "# LinearRegression 모델 초기화\n",
    "lr_reg_model = LinearRegression()\n",
    "\n",
    "# lr_reg_model 학습\n",
    "lr_reg_model.fit(X_train, y_reg_train)\n",
    "\n",
    "# lr_reg_model 예측\n",
    "y_reg_pred = lr_reg_model.predict(X_test)\n",
    "\n",
    "# 회귀 모델 평가\n",
    "print(\"\\nLinear Regression:\")\n",
    "\n",
    "# 평균 제곱 오차 계산 및 출력\n",
    "mse = mean_squared_error(y_reg_test, y_reg_pred)\n",
    "print(\"Mean Squared Error:\", mse)\n",
    "\n",
    "# R-제곱 값 계산 및 출력\n",
    "r2 = r2_score(y_reg_test, y_reg_pred)\n",
    "print(\"R-squared:\", r2)"
   ]
  },
  {
   "cell_type": "code",
   "execution_count": null,
   "metadata": {},
   "outputs": [],
   "source": [
    "# 회귀 계수 추출 (가중치)\n",
    "coefficients = lr_reg_model.coef_\n",
    "feature_names = X_train.columns\n",
    "\n",
    "# 계수를 데이터프레임으로 변환하여 중요도 정렬\n",
    "coef_df = pd.DataFrame({'Feature': feature_names, 'Coefficient': coefficients})\n",
    "coef_df = coef_df.sort_values(by='Coefficient', ascending=False)\n",
    "\n",
    "# Feature Importance 시각화\n",
    "plt.figure(figsize=(10, 6))\n",
    "sns.barplot(x='Coefficient', y='Feature', data=coef_df, palette='coolwarm')\n",
    "plt.title('Linear Regression Feature Coefficients')\n",
    "plt.xlabel('Coefficient Value')\n",
    "plt.ylabel('Feature')\n",
    "plt.show()"
   ]
  }
 ],
 "metadata": {
  "kernelspec": {
   "display_name": "base",
   "language": "python",
   "name": "python3"
  },
  "language_info": {
   "codemirror_mode": {
    "name": "ipython",
    "version": 3
   },
   "file_extension": ".py",
   "mimetype": "text/x-python",
   "name": "python",
   "nbconvert_exporter": "python",
   "pygments_lexer": "ipython3",
   "version": "3.9.7"
  }
 },
 "nbformat": 4,
 "nbformat_minor": 2
}
