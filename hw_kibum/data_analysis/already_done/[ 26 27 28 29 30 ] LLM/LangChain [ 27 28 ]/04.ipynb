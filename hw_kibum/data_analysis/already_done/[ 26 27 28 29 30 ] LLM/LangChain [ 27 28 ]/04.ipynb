{
 "cells": [
  {
   "cell_type": "markdown",
   "metadata": {},
   "source": [
    "# [실습4] Chathistory를 가진 챗봇과 질의응답"
   ]
  },
  {
   "cell_type": "markdown",
   "metadata": {},
   "source": [
    "## 실습 목표\n",
    "---\n",
    "[실습4] 챗봇의 기능 중 Chat History를 기억하지 못하는 문제를 LangChain을 통해 해결하기 위한 방법을 이해합니다.\n"
   ]
  },
  {
   "cell_type": "markdown",
   "metadata": {},
   "source": [
    "## 실습 목차\n",
    "---\n",
    "\n",
    "1. **Chat History 저장 및 입력:** Chat History를 저장하고 적용하는 기능을 구현합니다."
   ]
  },
  {
   "cell_type": "markdown",
   "metadata": {},
   "source": [
    "## 실습 개요\n",
    "---\n",
    "본격적으로 챗봇의 기능을 고도화 하기 전, 챗봇의 퀄리티를 높일 수 있는 다양한 방법을 학습합니다."
   ]
  },
  {
   "cell_type": "markdown",
   "metadata": {},
   "source": [
    "## 0. 환경 설정\n",
    "- 필요한 라이브러리를 불러옵니다."
   ]
  },
  {
   "cell_type": "code",
   "execution_count": 1,
   "metadata": {},
   "outputs": [],
   "source": [
    "import os\n",
    "import time\n",
    "\n",
    "from langchain_community.chat_models import ChatOpenAI\n",
    "from langchain_core.output_parsers import StrOutputParser\n",
    "from langchain_core.prompts import ChatPromptTemplate\n",
    "from langchain_core.runnables import RunnablePassthrough"
   ]
  },
  {
   "cell_type": "markdown",
   "metadata": {},
   "source": [
    "- OpenAI를 통해 gpt-4o-mini 모델을 불러옵니다."
   ]
  },
  {
   "cell_type": "markdown",
   "metadata": {},
   "source": [
    "gpt-4o-mini 모델을 사용하는 ChatOpenAI 객체를 생성합니다."
   ]
  },
  {
   "cell_type": "code",
   "execution_count": 2,
   "metadata": {},
   "outputs": [],
   "source": [
    "import os\n",
    "\n",
    "\n",
    "if \"OPENAI_API_KEY\" not in os.environ:\n",
    "    os.environ[\"OPENAI_API_KEY\"] = \"\""
   ]
  },
  {
   "cell_type": "code",
   "execution_count": 3,
   "metadata": {},
   "outputs": [
    {
     "name": "stderr",
     "output_type": "stream",
     "text": [
      "C:\\Users\\timeo\\AppData\\Local\\Temp\\ipykernel_17756\\2552109823.py:1: LangChainDeprecationWarning: The class `ChatOpenAI` was deprecated in LangChain 0.0.10 and will be removed in 1.0. An updated version of the class exists in the :class:`~langchain-openai package and should be used instead. To use it run `pip install -U :class:`~langchain-openai` and import as `from :class:`~langchain_openai import ChatOpenAI``.\n",
      "  llm = ChatOpenAI(model=\"gpt-4o-mini\")\n",
      "WARNING! format is not default parameter.\n",
      "                    format was transferred to model_kwargs.\n",
      "                    Please confirm that format is what you intended.\n"
     ]
    }
   ],
   "source": [
    "llm = ChatOpenAI(model=\"gpt-4o-mini\")\n",
    "route_llm = ChatOpenAI(model=\"gpt-4o-mini\", format=\"json\")"
   ]
  },
  {
   "cell_type": "markdown",
   "metadata": {},
   "source": [
    "간단한 질의응답 Chain을 구성합니다."
   ]
  },
  {
   "cell_type": "code",
   "execution_count": 4,
   "metadata": {},
   "outputs": [],
   "source": [
    "messages_with_variables = [\n",
    "    (\"system\", \"당신은 친절한 교통 분야 전문 AI Assistant 입니다.\"),\n",
    "    (\"human\", \"{question}\"),\n",
    "]\n",
    "parser = StrOutputParser()\n",
    "prompt = ChatPromptTemplate.from_messages(messages_with_variables)\n",
    "chain = prompt | llm | parser"
   ]
  },
  {
   "cell_type": "markdown",
   "metadata": {},
   "source": [
    "## 1. Chat History 저장 및 적용"
   ]
  },
  {
   "cell_type": "markdown",
   "metadata": {},
   "source": [
    "챗봇은 기본적으로 이전 대화 내용을 기억하지 않습니다. 즉, 유저가 자신의 이름을 말하거나 이전 질문에 이어지는 질문을 해도 챗봇은 이를 기억하지 못하고 대화를 이해할 수 있는 능력이 떨어집니다.\n",
    "\n",
    "저희가 프로젝트에서 구현하는 챗봇은 이러한 기억 능력이 없어도 필요한 정보를 충분히 Retrieve 할 수 있지만, Chat History를 기억해야 하는 다른 챗봇을 구현할 때는 문제가 될 수 있습니다.\n",
    "\n",
    "LangChain은 이러한 Chat History를 저장하는 메모리와 관련된 다양한 모듈들을 지원합니다. 이번 실습에서는 LangChain에서 제공하는 다양한 메모리 모듈을 활용하여, LLM이 대화 내용을 기억할 수 있도록 해보겠습니다.\n",
    "\n",
    "우선 아래의 셀을 실행해보겠습니다."
   ]
  },
  {
   "cell_type": "code",
   "execution_count": 5,
   "metadata": {},
   "outputs": [
    {
     "name": "stdout",
     "output_type": "stream",
     "text": [
      "챗봇을 만드는 순서는 다음과 같습니다:\n",
      "\n",
      "1. **목적 설정**: 챗봇이 무엇을 할 것인지, 어떤 문제를 해결할 것인지 명확히 정의합니다. 예를 들어, 고객 지원, 정보 제공, 예약 시스템 등입니다.\n",
      "\n",
      "2. **타겟 사용자 분석**: 챗봇을 사용할 사용자에 대한 이해를 높입니다. 사용자들이 어떤 질문을 자주 하는지, 필요로 하는 정보는 무엇인지 분석합니다.\n",
      "\n",
      "3. **대화 흐름 설계**: 사용자가 챗봇과 어떻게 상호작용할지를 계획합니다. 대화의 시작, 중간, 종료 단계를 설계하고, 가능한 질문과 답변을 정리합니다.\n",
      "\n",
      "4. **플랫폼 선택**: 챗봇을 어디에 배포할 것인지 결정합니다. 웹사이트, 모바일 앱, 메신저 플랫폼(예: 카카오톡, 페이스북 메신저 등) 중에서 선택합니다.\n",
      "\n",
      "5. **기술적 구현**: 프로그래밍 언어와 프레임워크를 선택하여 챗봇을 개발합니다. 이를 위해 대화형 AI, 자연어 처리(NLP) 기술을 사용할 수 있습니다.\n",
      "\n",
      "6. **데이터베이스 구축**: 챗봇이 사용할 정보 및 데이터를 저장할 데이터베이스를 구축합니다. 이는 사용자 질문에 대한 답변을 포함합니다.\n",
      "\n",
      "7. **테스트 및 피드백**: 챗봇을 테스트하여 오류를 수정하고, 사용자 경험을 개선하기 위한 피드백을 받습니다. 실제 사용자와의 상호작용을 통해 문제점을 발견합니다.\n",
      "\n",
      "8. **배포**: 최종적으로 챗봇을 선택한 플랫폼에 배포합니다. 이 단계에서는 사용자들이 챗봇을 쉽게 찾고 사용할 수 있도록 해야 합니다.\n",
      "\n",
      "9. **모니터링 및 유지보수**: 챗봇의 성능을 지속적으로 모니터링하고, 사용자 피드백을 바탕으로 개선합니다. 새로운 질문이나 상황에 대비해 업데이트를 진행합니다.\n",
      "\n",
      "10. **마케팅 및 홍보**: 챗봇을 홍보하여 더 많은 사용자들이 이용하도록 유도합니다. 소셜 미디어, 이메일 마케팅 등을 활용할 수 있습니다.\n",
      "\n",
      "이와 같은 단계를 통해 효과적인 챗봇을 개발할 수 있습니다.\n"
     ]
    }
   ],
   "source": [
    "response = chain.invoke(\"챗봇을 만드는 순서를 한국어로 설명해줘\")\n",
    "\n",
    "print(response)"
   ]
  },
  {
   "cell_type": "code",
   "execution_count": 6,
   "metadata": {},
   "outputs": [
    {
     "name": "stdout",
     "output_type": "stream",
     "text": [
      "Sure! The translation of \"당신은 친절한 교통 분야 전문 AI Assistant 입니다.\" is \"You are a kind AI Assistant specialized in the field of transportation.\"\n"
     ]
    }
   ],
   "source": [
    "response = chain.invoke(\n",
    "    \"방금 말한 것을 영어로 번역해줘\"\n",
    ")\n",
    "print(response)"
   ]
  },
  {
   "cell_type": "markdown",
   "metadata": {},
   "source": [
    "간단한 질문에 잘 대답하는 것을 볼 수 있지만, 답변한 내용에 기반해서 다시 물어보면 뜬금없는 얘기를 하는 것을 볼 수 있습니다. 이는 LangChain에서 LLM은 기본적으로 응답을 하면, 기존 대화 기록을 저장하지 않기 때문입니다.\n",
    "\n",
    "\n",
    "이번 실습에서는 LangChain에서 제공되는 다양한 Memory 모듈을 활용하여, LLM이 대화 내용을 기억할 수 있도록 해보겠습니다."
   ]
  },
  {
   "cell_type": "markdown",
   "metadata": {},
   "source": [
    "## 1-1 ConversationBufferMemory"
   ]
  },
  {
   "cell_type": "markdown",
   "metadata": {},
   "source": [
    "단순히 이전 대화 내용 전체를 저장하는 메모리입니다\n",
    "\n",
    "\n",
    "`ConversationBufferMemory`는 단순히 이전 대화 내용 전체를 저장하는 메모리입니다. 이를 사용하여 대화의 맥락을 유지할 수 있습니다.\n",
    "\n",
    "__메모리 설정하기__\n",
    "\n",
    "\n",
    "우선 `ConversationBufferMemory` 객체를 `memory` 변수에 할당하여, `memory에` 이전 LLM과의 대화 내용을 계속 저장하겠습니다."
   ]
  },
  {
   "cell_type": "code",
   "execution_count": 7,
   "metadata": {},
   "outputs": [
    {
     "name": "stderr",
     "output_type": "stream",
     "text": [
      "C:\\Users\\timeo\\AppData\\Local\\Temp\\ipykernel_17756\\62053236.py:4: LangChainDeprecationWarning: Please see the migration guide at: https://python.langchain.com/docs/versions/migrating_memory/\n",
      "  memory = ConversationBufferMemory(\n"
     ]
    },
    {
     "data": {
      "text/plain": [
       "{'chat_history': []}"
      ]
     },
     "execution_count": 7,
     "metadata": {},
     "output_type": "execute_result"
    }
   ],
   "source": [
    "from langchain.memory import ConversationBufferMemory\n",
    "from langchain.prompts import MessagesPlaceholder\n",
    "\n",
    "memory = ConversationBufferMemory(\n",
    "    memory_key=\"chat_history\",\n",
    "    return_messages=True,\n",
    ")\n",
    "\n",
    "memory.load_memory_variables({})"
   ]
  },
  {
   "cell_type": "markdown",
   "metadata": {},
   "source": [
    "memory는 `load_memory_variables` 메소드를 사용해서 이전 대화 내용을 확인할 수 있습니다. 기본적으로 처음 memory를 만들면 비어있는 것을 확인할 수 있습니다.\n",
    "\n",
    "__대화 내용 저장하기__\n",
    "\n",
    "\n",
    "`save_context` 메소드를 활용하여 LLM과의 대화 내용을 추가해줄 수 있습니다. `save_context` 활용 시 \"input\"에는 사용자의 입력, \"output\"에는 LLM의 응답을 기록해줍니다.\n"
   ]
  },
  {
   "cell_type": "code",
   "execution_count": 8,
   "metadata": {},
   "outputs": [
    {
     "data": {
      "text/plain": [
       "{'chat_history': [HumanMessage(content='나는 국토교통부에서 근무하고 싶은 김싸피야.', additional_kwargs={}, response_metadata={}),\n",
       "  AIMessage(content='꿈을 이루길 바래요!', additional_kwargs={}, response_metadata={})]}"
      ]
     },
     "execution_count": 8,
     "metadata": {},
     "output_type": "execute_result"
    }
   ],
   "source": [
    "memory.save_context(\n",
    "    {\"input\": \"나는 국토교통부에서 근무하고 싶은 김싸피야.\"}, {\"output\": \"꿈을 이루길 바래요!\"}\n",
    ")\n",
    "\n",
    "memory.load_memory_variables({})"
   ]
  },
  {
   "cell_type": "markdown",
   "metadata": {},
   "source": [
    "### [TODO] memory 변수를 만들고 체인을 구성해보세요."
   ]
  },
  {
   "cell_type": "code",
   "execution_count": 9,
   "metadata": {},
   "outputs": [],
   "source": [
    "memory = ConversationBufferMemory(\n",
    "    memory_key=\"chat_history\",\n",
    "    return_messages=True,\n",
    ")\n",
    "\n",
    "\n",
    "def load_memory(x):\n",
    "    return memory.load_memory_variables({})[\"chat_history\"]\n",
    "\n",
    "\n",
    "messages_with_history = [\n",
    "    (\"system\", \"당신은 친절한 교통 분야 AI Assistant 입니다.\"),\n",
    "    MessagesPlaceholder(variable_name=\"chat_history\"),\n",
    "    (\"human\", \"{question}\"),\n",
    "]\n",
    "parser = StrOutputParser()\n",
    "prompt = ChatPromptTemplate.from_messages(messages_with_history)\n",
    "memory_chain = (\n",
    "    {\"chat_history\": load_memory, \"question\": RunnablePassthrough()}\n",
    "    | prompt\n",
    "    | llm\n",
    "    | parser\n",
    ")"
   ]
  },
  {
   "cell_type": "code",
   "execution_count": 10,
   "metadata": {},
   "outputs": [
    {
     "name": "stdout",
     "output_type": "stream",
     "text": [
      "챗봇을 만드는 과정은 다음과 같은 단계로 나눌 수 있습니다:\n",
      "\n",
      "1. **목표 설정**:\n",
      "   - 챗봇이 수행할 기능과 목표를 명확히 설정합니다. 예를 들어, 고객 지원, 정보 제공, 예약 시스템 등.\n",
      "\n",
      "2. **대화 흐름 설계**:\n",
      "   - 사용자와의 대화 흐름을 설계합니다. 사용자가 어떤 질문을 할 수 있는지, 챗봇이 어떻게 응답할지를 정의합니다.\n",
      "\n",
      "3. **플랫폼 선택**:\n",
      "   - 챗봇을 배포할 플랫폼을 선택합니다. 웹사이트, 모바일 앱, 메신저 앱(카카오톡, WhatsApp 등) 등 다양한 옵션이 있습니다.\n",
      "\n",
      "4. **기술 스택 결정**:\n",
      "   - 챗봇을 개발하기 위한 기술 스택을 결정합니다. Python, JavaScript, Node.js 등의 프로그래밍 언어와 자연어 처리(NLP) 라이브러리(예: NLTK, spaCy, Rasa 등) 선택.\n",
      "\n",
      "5. **개발**:\n",
      "   - 실제로 코드를 작성하여 챗봇을 개발합니다. 대화 흐름과 사용자 입력을 처리하는 로직을 구현합니다.\n",
      "\n",
      "6. **테스트**:\n",
      "   - 개발한 챗봇을 다양한 시나리오로 테스트하여 오류를 찾고 수정합니다. 실제 사용자와의 대화처럼 시뮬레이션하여 피드백을 받습니다.\n",
      "\n",
      "7. **배포**:\n",
      "   - 테스트가 완료된 챗봇을 선택한 플랫폼에 배포합니다. 사용자들이 실제로 사용할 수 있도록 설정합니다.\n",
      "\n",
      "8. **모니터링 및 개선**:\n",
      "   - 배포 후 사용자 피드백을 모니터링하고, 사용 데이터를 분석하여 챗봇의 성능을 개선합니다. 지속적으로 업데이트 및 유지보수를 진행합니다.\n",
      "\n",
      "9. **확장 및 발전**:\n",
      "   - 새로운 기능 추가, 다양한 언어 지원, 다른 플랫폼으로의 확장 등을 통해 챗봇을 발전시킵니다.\n",
      "\n",
      "이 과정을 통해 사용자와 효과적으로 소통할 수 있는 챗봇을 만들 수 있습니다.\n"
     ]
    }
   ],
   "source": [
    "question = \"챗봇을 만드는 순서를 설명해줘\"\n",
    "response = memory_chain.invoke(question)\n",
    "\n",
    "print(response)\n",
    "\n",
    "memory.save_context({\"input\": question}, {\"output\": response})"
   ]
  },
  {
   "cell_type": "code",
   "execution_count": 11,
   "metadata": {},
   "outputs": [
    {
     "name": "stdout",
     "output_type": "stream",
     "text": [
      "챗봇을 만드는 과정은 다음과 같은 단계로 나눌 수 있습니다:\n",
      "\n",
      "1. **목표 설정**:\n",
      "   - 챗봇이 수행할 기능과 목표를 명확히 설정합니다. 예를 들어, 고객 지원, 정보 제공, 예약 시스템 등.\n",
      "\n",
      "2. **대화 흐름 설계**:\n",
      "   - 사용자와의 대화 흐름을 설계합니다. 사용자가 어떤 질문을 할 수 있는지, 챗봇이 어떻게 응답할지를 정의합니다.\n",
      "\n",
      "3. **플랫폼 선택**:\n",
      "   - 챗봇을 배포할 플랫폼을 선택합니다. 웹사이트, 모바일 앱, 메신저 앱(카카오톡, WhatsApp 등) 등 다양한 옵션이 있습니다.\n",
      "\n",
      "4. **기술 스택 결정**:\n",
      "   - 챗봇을 개발하기 위한 기술 스택을 결정합니다. Python, JavaScript, Node.js 등의 프로그래밍 언어와 자연어 처리(NLP) 라이브러리(예: NLTK, spaCy, Rasa 등) 선택.\n",
      "\n",
      "5. **개발**:\n",
      "   - 실제로 코드를 작성하여 챗봇을 개발합니다. 대화 흐름과 사용자 입력을 처리하는 로직을 구현합니다.\n",
      "\n",
      "6. **테스트**:\n",
      "   - 개발한 챗봇을 다양한 시나리오로 테스트하여 오류를 찾고 수정합니다. 실제 사용자와의 대화처럼 시뮬레이션하여 피드백을 받습니다.\n",
      "\n",
      "7. **배포**:\n",
      "   - 테스트가 완료된 챗봇을 선택한 플랫폼에 배포합니다. 사용자들이 실제로 사용할 수 있도록 설정합니다.\n",
      "\n",
      "8. **모니터링 및 개선**:\n",
      "   - 배포 후 사용자 피드백을 모니터링하고, 사용 데이터를 분석하여 챗봇의 성능을 개선합니다. 지속적으로 업데이트 및 유지보수를 진행합니다.\n",
      "\n",
      "9. **확장 및 발전**:\n",
      "   - 새로운 기능 추가, 다양한 언어 지원, 다른 플랫폼으로의 확장 등을 통해 챗봇을 발전시킵니다.\n",
      "\n",
      "이 과정을 통해 사용자와 효과적으로 소통할 수 있는 챗봇을 만들 수 있습니다.\n"
     ]
    }
   ],
   "source": [
    "response = memory_chain.invoke(\n",
    "    \"방금 말한 것을 한글로 번역해줘\"\n",
    ")\n",
    "print(response)"
   ]
  },
  {
   "cell_type": "code",
   "execution_count": 12,
   "metadata": {},
   "outputs": [
    {
     "data": {
      "text/plain": [
       "ConversationBufferMemory(chat_memory=InMemoryChatMessageHistory(messages=[HumanMessage(content='챗봇을 만드는 순서를 설명해줘', additional_kwargs={}, response_metadata={}), AIMessage(content='챗봇을 만드는 과정은 다음과 같은 단계로 나눌 수 있습니다:\\n\\n1. **목표 설정**:\\n   - 챗봇이 수행할 기능과 목표를 명확히 설정합니다. 예를 들어, 고객 지원, 정보 제공, 예약 시스템 등.\\n\\n2. **대화 흐름 설계**:\\n   - 사용자와의 대화 흐름을 설계합니다. 사용자가 어떤 질문을 할 수 있는지, 챗봇이 어떻게 응답할지를 정의합니다.\\n\\n3. **플랫폼 선택**:\\n   - 챗봇을 배포할 플랫폼을 선택합니다. 웹사이트, 모바일 앱, 메신저 앱(카카오톡, WhatsApp 등) 등 다양한 옵션이 있습니다.\\n\\n4. **기술 스택 결정**:\\n   - 챗봇을 개발하기 위한 기술 스택을 결정합니다. Python, JavaScript, Node.js 등의 프로그래밍 언어와 자연어 처리(NLP) 라이브러리(예: NLTK, spaCy, Rasa 등) 선택.\\n\\n5. **개발**:\\n   - 실제로 코드를 작성하여 챗봇을 개발합니다. 대화 흐름과 사용자 입력을 처리하는 로직을 구현합니다.\\n\\n6. **테스트**:\\n   - 개발한 챗봇을 다양한 시나리오로 테스트하여 오류를 찾고 수정합니다. 실제 사용자와의 대화처럼 시뮬레이션하여 피드백을 받습니다.\\n\\n7. **배포**:\\n   - 테스트가 완료된 챗봇을 선택한 플랫폼에 배포합니다. 사용자들이 실제로 사용할 수 있도록 설정합니다.\\n\\n8. **모니터링 및 개선**:\\n   - 배포 후 사용자 피드백을 모니터링하고, 사용 데이터를 분석하여 챗봇의 성능을 개선합니다. 지속적으로 업데이트 및 유지보수를 진행합니다.\\n\\n9. **확장 및 발전**:\\n   - 새로운 기능 추가, 다양한 언어 지원, 다른 플랫폼으로의 확장 등을 통해 챗봇을 발전시킵니다.\\n\\n이 과정을 통해 사용자와 효과적으로 소통할 수 있는 챗봇을 만들 수 있습니다.', additional_kwargs={}, response_metadata={})]), return_messages=True, memory_key='chat_history')"
      ]
     },
     "execution_count": 12,
     "metadata": {},
     "output_type": "execute_result"
    }
   ],
   "source": [
    "memory"
   ]
  },
  {
   "cell_type": "markdown",
   "metadata": {},
   "source": [
    "이제 메모리가 추가된 체인을 통해, 이전 대화에 대한 정보를 포함한 응답을 얻을 수 있습니다. 메모리가 없을 때는 이전 대화에 대해 물어보면 이상한 말을 하는 것을 볼 수 있었는데, 메모리를 추가하면 제대로 응답하는 모습을 확인할 수 있습니다."
   ]
  },
  {
   "cell_type": "markdown",
   "metadata": {},
   "source": [
    "하지만, `ConversationBufferMemory`는 몇 가지 한계점이 있습니다:\n",
    "\n",
    "- 비용 증가: 모델 자체에는 메모리가 없으므로, 모델을 호출할 때마다 전체 대화 기록을 프롬프트에 함께 보내야 합니다. 이는 비용을 증가시킵니다.\n",
    "- 집중 분산: 언어 모델이 참조하는 이전의 텍스트가 너무 많아지면, 언어모델은 중요한 부분을 놓칠 수 있습니다."
   ]
  },
  {
   "cell_type": "code",
   "execution_count": 13,
   "metadata": {},
   "outputs": [
    {
     "name": "stdout",
     "output_type": "stream",
     "text": [
      "{'chat_history': [HumanMessage(content='챗봇을 만드는 순서를 설명해줘', additional_kwargs={}, response_metadata={}), AIMessage(content='챗봇을 만드는 과정은 다음과 같은 단계로 나눌 수 있습니다:\\n\\n1. **목표 설정**:\\n   - 챗봇이 수행할 기능과 목표를 명확히 설정합니다. 예를 들어, 고객 지원, 정보 제공, 예약 시스템 등.\\n\\n2. **대화 흐름 설계**:\\n   - 사용자와의 대화 흐름을 설계합니다. 사용자가 어떤 질문을 할 수 있는지, 챗봇이 어떻게 응답할지를 정의합니다.\\n\\n3. **플랫폼 선택**:\\n   - 챗봇을 배포할 플랫폼을 선택합니다. 웹사이트, 모바일 앱, 메신저 앱(카카오톡, WhatsApp 등) 등 다양한 옵션이 있습니다.\\n\\n4. **기술 스택 결정**:\\n   - 챗봇을 개발하기 위한 기술 스택을 결정합니다. Python, JavaScript, Node.js 등의 프로그래밍 언어와 자연어 처리(NLP) 라이브러리(예: NLTK, spaCy, Rasa 등) 선택.\\n\\n5. **개발**:\\n   - 실제로 코드를 작성하여 챗봇을 개발합니다. 대화 흐름과 사용자 입력을 처리하는 로직을 구현합니다.\\n\\n6. **테스트**:\\n   - 개발한 챗봇을 다양한 시나리오로 테스트하여 오류를 찾고 수정합니다. 실제 사용자와의 대화처럼 시뮬레이션하여 피드백을 받습니다.\\n\\n7. **배포**:\\n   - 테스트가 완료된 챗봇을 선택한 플랫폼에 배포합니다. 사용자들이 실제로 사용할 수 있도록 설정합니다.\\n\\n8. **모니터링 및 개선**:\\n   - 배포 후 사용자 피드백을 모니터링하고, 사용 데이터를 분석하여 챗봇의 성능을 개선합니다. 지속적으로 업데이트 및 유지보수를 진행합니다.\\n\\n9. **확장 및 발전**:\\n   - 새로운 기능 추가, 다양한 언어 지원, 다른 플랫폼으로의 확장 등을 통해 챗봇을 발전시킵니다.\\n\\n이 과정을 통해 사용자와 효과적으로 소통할 수 있는 챗봇을 만들 수 있습니다.', additional_kwargs={}, response_metadata={}), HumanMessage(content='How can I safely merge onto the highway?', additional_kwargs={}, response_metadata={}), AIMessage(content='Merging onto the highway can be a challenging task, but following these steps can help you do it safely:\\n\\n1. **Prepare to Merge**:\\n   - As you approach the highway entrance, check for signs that indicate the speed limit and merging lane. \\n\\n2. **Use Your Turn Signal**:\\n   - Signal your intention to merge well in advance. This alerts other drivers of your intention to join the traffic.\\n\\n3. **Check Your Surroundings**:\\n   - Look in your mirrors and over your shoulder to check for vehicles in your blind spot. Make sure the lane you are merging into is clear and that there is enough space for you to enter safely.\\n\\n4. **Adjust Your Speed**:\\n   - Accelerate to match the speed of the traffic on the highway. This is crucial for a smooth and safe merge. Use the acceleration lane to gain speed.\\n\\n5. **Look for a Gap**:\\n   - Identify a suitable gap in the traffic on the highway. Make sure you have enough distance to merge safely without forcing other drivers to slow down or change lanes.\\n\\n6. **Merge Smoothly**:\\n   - When it’s safe, steer your vehicle into the gap in the highway traffic. Avoid sudden movements, and maintain a steady speed.\\n\\n7. **Maintain Your Position**:\\n   - Once on the highway, continue to signal and adjust your speed as necessary to maintain a safe distance from other vehicles.\\n\\n8. **Be Aware of Other Drivers**:\\n   - Keep an eye on the vehicles around you, and be prepared to react if other drivers are not accommodating your merge.\\n\\n9. **Stay Calm**:\\n   - Merging can be stressful, but staying calm and focused will help you make better decisions.\\n\\nBy following these steps, you can merge onto the highway safely and confidently. Remember to always prioritize safety and be aware of your surroundings.', additional_kwargs={}, response_metadata={}), HumanMessage(content='Summarize What you just said in Korean', additional_kwargs={}, response_metadata={}), AIMessage(content='고속도로에 안전하게 진입하기 위해 다음과 같은 단계를 따르세요:\\n\\n1. **진입 준비**: 고속도로 입구에 가까워지면 속도 제한 및 진입 차선에 대한 표지판을 확인합니다.\\n   \\n2. **차선 변경 신호**: 미리 차선 변경 신호를 켜서 다른 운전자에게 의도를 알립니다.\\n\\n3. **주변 확인**: 거울과 어깨 뒤를 돌아보아 사각지대에 있는 차량을 확인합니다.\\n\\n4. **속도 조절**: 고속도로의 차량 속도에 맞추어 가속합니다.\\n\\n5. **간격 찾기**: 고속도로의 교통 흐름에서 안전하게 진입할 수 있는 간격을 찾습니다.\\n\\n6. **부드럽게 진입**: 안전하다고 판단되면 차선을 변경하여 진입합니다.\\n\\n7. **위치 유지**: 고속도로에 진입한 후에도 신호를 켜고 안전 거리를 유지합니다.\\n\\n8. **다른 운전자의 행동 인식**: 주변 차량에 주의를 기울이고, 다른 운전자가 진입을 양보하지 않으면 대비합니다.\\n\\n9. **침착 유지**: 긴장이 될 수 있지만 침착함을 유지하는 것이 중요합니다.\\n\\n이 단계를 따르면 고속도로에 안전하고 자신 있게 진입할 수 있습니다. 항상 안전을 우선시하고 주변을 인식하는 것이 중요합니다.', additional_kwargs={}, response_metadata={}), HumanMessage(content='How can I avoid sudden stops while driving in heavy traffic?', additional_kwargs={}, response_metadata={}), AIMessage(content='Avoiding sudden stops while driving in heavy traffic is crucial for maintaining safety and ensuring a smooth flow of vehicles. Here are some tips to help you achieve this:\\n\\n1. **Maintain a Safe Following Distance**:\\n   - Keep a safe distance between your vehicle and the one in front of you. A good rule of thumb is the \"three-second rule\": you should be at least three seconds behind the vehicle ahead. This gives you enough time to react if traffic slows down suddenly.\\n\\n2. **Stay Aware of Traffic Conditions**:\\n   - Pay attention to the flow of traffic ahead of you. Look for brake lights and changes in speed. Being aware of the traffic patterns can help you anticipate when to slow down.\\n\\n3. **Use Your Mirrors**:\\n   - Regularly check your mirrors to stay aware of vehicles behind and beside you. This helps you gauge how much space you have and whether you need to adjust your speed.\\n\\n4. **Anticipate Stops**:\\n   - If you see brake lights ahead or notice traffic slowing down, begin to ease off the accelerator early instead of waiting until you have to brake suddenly.\\n\\n5. **Avoid Distractions**:\\n   - Stay focused on the road and avoid distractions such as using your phone, adjusting the radio, or engaging in conversations that divert your attention.\\n\\n6. **Use Cruise Control Wisely**:\\n   - If traffic is steady and not too congested, using cruise control can help maintain a consistent speed. However, be ready to disengage it if traffic conditions change.\\n\\n7. **Plan Your Route**:\\n   - If possible, plan your route to avoid known traffic congestion areas. Use navigation apps that provide real-time traffic updates.\\n\\n8. **Stay Calm and Patient**:\\n   - Heavy traffic can be frustrating, but staying calm will help you make better driving decisions. Avoid aggressive driving behaviors that can lead to sudden stops.\\n\\n9. **Be Prepared for Emergencies**:\\n   - Keep a safe following distance and be ready to react to unexpected situations, such as sudden stops from the vehicles in front of you.\\n\\nBy following these strategies, you can reduce the likelihood of making sudden stops and help maintain a safer driving environment for yourself and others on the road.', additional_kwargs={}, response_metadata={}), HumanMessage(content='Summarize What you just said in Korean', additional_kwargs={}, response_metadata={}), AIMessage(content='혼잡한 교통 속에서 갑작스러운 정지를 피하기 위해 다음과 같은 팁을 참고하세요:\\n\\n1. **안전한 차간 거리 유지**: 앞차와의 안전 거리를 유지하세요. \"3초 규칙\"을 따르는 것이 좋습니다. 앞차와 최소 3초 이상의 거리를 두면 반응할 시간 확보에 도움이 됩니다.\\n\\n2. **교통 상황 주의**: 앞쪽의 교통 흐름에 주의하세요. 브레이크 라이트나 속도 변화에 신경을 쓰면 갑작스러운 감속을 예측할 수 있습니다.\\n\\n3. **거울 확인**: 정기적으로 거울을 확인하여 주변 차량의 위치를 파악합니다. 이렇게 하면 속도를 조절할 필요가 있는지 알 수 있습니다.\\n\\n4. **정지 예상**: 앞차의 브레이크 라이트를 보고 트래픽이 느려질 때 미리 가속 페달에서 발을 떼십시오.\\n\\n5. **산만함 피하기**: 전화 사용, 라디오 조정 등 도로에서의 주의를 분산시키는 행동을 피하세요.\\n\\n6. **크루즈 컨트롤 현명하게 사용하기**: 교통이 원활할 때 크루즈 컨트롤을 사용하면 일정한 속도를 유지하는 데 도움이 됩니다. 하지만 상황 변화에 대비해 즉시 해제할 준비를 하세요.\\n\\n7. **경로 계획**: 가능하면 혼잡 지역을 피할 수 있는 경로를 계획하세요. 실시간 교통 업데이트를 제공하는 내비게이션 앱을 사용하세요.\\n\\n8. **침착하고 인내심 가지기**: 혼잡한 교통 상황에서 침착함을 유지하면 더 나은 운전 결정을 내릴 수 있습니다. 공격적인 운전을 피하세요.\\n\\n9. **비상 상황 대비**: 안전한 차간 거리를 유지하고 예기치 않은 상황에 대비하여 반응할 준비를 하세요.\\n\\n이러한 전략을 따르면 갑작스러운 정지를 줄이고 도로에서 더 안전한 운전 환경을 유지할 수 있습니다.', additional_kwargs={}, response_metadata={}), HumanMessage(content='What are the best practices for safe driving in rainy conditions?', additional_kwargs={}, response_metadata={}), AIMessage(content='Driving in rainy conditions can be challenging, but following best practices can help ensure your safety and that of others on the road. Here are some key tips for safe driving in the rain:\\n\\n1. **Slow Down**:\\n   - Reduce your speed to maintain better control of your vehicle. Wet roads can reduce traction, increasing the risk of skidding.\\n\\n2. **Increase Following Distance**:\\n   - Extend the distance between your vehicle and the car in front of you. This gives you more time to react if the vehicle ahead suddenly stops.\\n\\n3. **Use Headlights**:\\n   - Turn on your headlights to improve visibility, even during the day. This helps other drivers see you better in rainy conditions.\\n\\n4. **Avoid Sudden Movements**:\\n   - Steer, accelerate, and brake gently to avoid losing control of your vehicle. Sudden movements can cause hydroplaning.\\n\\n5. **Check Tire Condition**:\\n   - Ensure your tires have adequate tread depth and are properly inflated. Good tire condition is crucial for maintaining traction on wet surfaces.\\n\\n6. **Use Windshield Wipers**:\\n   - Make sure your windshield wipers are functioning correctly and replace them if they are worn out. Keep your windshield clear for maximum visibility.\\n\\n7. **Avoid Puddles**:\\n   - Steer clear of large puddles, which can cause hydroplaning or hide potholes and other hazards.\\n\\n8. **Be Cautious on Bridges and Overpasses**:\\n   - These areas can become slippery more quickly than regular roadways. Reduce speed when crossing bridges or overpasses.\\n\\n9. **Watch for Road Conditions**:\\n   - Be alert for areas of standing water, slick spots, and debris washed onto the road. Adjust your driving accordingly.\\n\\n10. **Plan for Longer Travel Times**:\\n   - Allow extra time to reach your destination, as traffic may move more slowly in rainy conditions.\\n\\n11. **Stay Calm and Patient**:\\n   - Rain can lead to increased stress and frustration. Stay calm, avoid aggressive driving, and be patient with other drivers.\\n\\n12. **Avoid Cruise Control**:\\n   - Do not use cruise control in rainy conditions, as it can increase the risk of losing control of your vehicle if you hydroplane.\\n\\nBy following these best practices, you can help ensure a safer driving experience during rainy weather. Always prioritize safety and adjust your driving habits to suit the conditions.', additional_kwargs={}, response_metadata={}), HumanMessage(content='Summarize What you just said in Korean', additional_kwargs={}, response_metadata={}), AIMessage(content='비 오는 날 안전하게 운전하기 위한 몇 가지 모범 사례는 다음과 같습니다:\\n\\n1. **속도 줄이기**: 속도를 감소시켜 차량 제어를 개선하세요. 젖은 도로에서는 접지력이 줄어들어 미끄러질 위험이 증가합니다.\\n\\n2. **차간 거리 늘리기**: 앞차와의 거리를 늘려 반응 시간을 확보하세요.\\n\\n3. **헤드라이트 사용**: 가시성을 높이기 위해 헤드라이트를 켜세요. 비 오는 날 다른 운전자가 당신을 더 잘 볼 수 있도록 돕습니다.\\n\\n4. **갑작스러운 움직임 피하기**: 부드럽게 조향하고 가속 및 제동하여 차량 제어를 유지하세요.\\n\\n5. **타이어 상태 점검**: 타이어의 마모 상태와 공기압을 확인하세요. 좋은 타이어 상태는 젖은 도로에서의 접지력을 유지하는 데 중요합니다.\\n\\n6. **와이퍼 사용**: 와이퍼가 제대로 작동하는지 확인하고, 마모된 경우 교체하세요.\\n\\n7. **물웅덩이 피하기**: 큰 물웅덩이를 피하세요. 수막현상이나 도로의 다른 위험을 숨길 수 있습니다.\\n\\n8. **교량 및 고가도로 주의**: 이러한 지역은 일반 도로보다 미끄러워질 수 있으므로 속도를 줄이세요.\\n\\n9. **도로 상태 주의**: 고인 물, 미끄러운 지점, 도로에 쌓인 잔해에 주의하세요.\\n\\n10. **여행 시간 계획**: 비 오는 날에는 도착 시간에 여유를 두세요.\\n\\n11. **침착하고 인내심 가지기**: 비로 인해 스트레스가 증가할 수 있지만 침착함을 유지하고 공격적인 운전을 피하세요.\\n\\n12. **크루즈 컨트롤 사용 금지**: 비 오는 날에는 크루즈 컨트롤을 사용하지 마세요. 수막현상 발생 시 차량 제어를 잃을 위험이 증가합니다.\\n\\n이러한 모범 사례를 따르면 비 오는 날 더 안전하게 운전할 수 있습니다. 항상 안전을 우선시하고 상황에 맞게 운전 습관을 조정하세요.', additional_kwargs={}, response_metadata={})]}\n"
     ]
    }
   ],
   "source": [
    "question = \"How can I safely merge onto the highway?\"\n",
    "response = memory_chain.invoke(question)\n",
    "memory.save_context({\"input\": question}, {\"output\": response})\n",
    "\n",
    "question = \"Summarize What you just said in Korean\"\n",
    "response = memory_chain.invoke(question)\n",
    "memory.save_context({\"input\": question}, {\"output\": response})\n",
    "\n",
    "question = \"How can I avoid sudden stops while driving in heavy traffic?\"\n",
    "response = memory_chain.invoke(question)\n",
    "memory.save_context({\"input\": question}, {\"output\": response})\n",
    "\n",
    "question = \"Summarize What you just said in Korean\"\n",
    "response = memory_chain.invoke(question)\n",
    "memory.save_context({\"input\": question}, {\"output\": response})\n",
    "\n",
    "question = \"What are the best practices for safe driving in rainy conditions?\"\n",
    "response = memory_chain.invoke(question)\n",
    "memory.save_context({\"input\": question}, {\"output\": response})\n",
    "\n",
    "question = \"Summarize What you just said in Korean\"\n",
    "response = memory_chain.invoke(question)\n",
    "memory.save_context({\"input\": question}, {\"output\": response})\n",
    "\n",
    "print(memory.load_memory_variables({}))\n"
   ]
  },
  {
   "cell_type": "markdown",
   "metadata": {},
   "source": [
    "모든 대화가 계속해서 메모리에 저장되는 모습을 볼 수 있습니다. 이는 대화 내용이 길어질수록 LLM에게 물어보는 비용이 증가하게 되고, 중요한 부분을 놓치게 될 가능성도 커집니다."
   ]
  },
  {
   "cell_type": "markdown",
   "metadata": {},
   "source": [
    "## 1-2 ConversationBufferWindowMemory"
   ]
  },
  {
   "cell_type": "markdown",
   "metadata": {},
   "source": [
    "`ConversationBufferWindowMemory`는 대화의 특정 부분만을 저장하는 메모리입니다. 예를 들어, 최근 5개의 대화만 저장하는 식입니다.\n",
    "\n",
    "\n",
    "- 모든 대화를 저장하지 않아도 되어 메모리 사용량이 줄어듭니다.\n",
    "- 하지만 챗봇이 최근 대화에만 집중하게 되며, 이전 대화를 기억하지 못합니다."
   ]
  },
  {
   "cell_type": "markdown",
   "metadata": {},
   "source": [
    "### [TODO] memory 변수를 만들고 체인을 구성해보세요."
   ]
  },
  {
   "cell_type": "code",
   "execution_count": 14,
   "metadata": {},
   "outputs": [
    {
     "name": "stderr",
     "output_type": "stream",
     "text": [
      "C:\\Users\\timeo\\AppData\\Local\\Temp\\ipykernel_17756\\2916525597.py:3: LangChainDeprecationWarning: Please see the migration guide at: https://python.langchain.com/docs/versions/migrating_memory/\n",
      "  memory = ConversationBufferWindowMemory(\n"
     ]
    },
    {
     "name": "stdout",
     "output_type": "stream",
     "text": [
      "{'chat_history': [HumanMessage(content='How can I avoid sudden stops while driving in heavy traffic?', additional_kwargs={}, response_metadata={}), AIMessage(content=\"Avoiding sudden stops in heavy traffic requires careful planning and awareness of your surroundings. Here are some tips to help you navigate through congested areas more smoothly:\\n\\n1. **Maintain a Safe Following Distance**: Keep a safe distance between your vehicle and the one in front of you. This gives you more time to react if traffic slows down.\\n\\n2. **Stay Alert**: Pay attention to the traffic flow and anticipate changes. Look ahead for brake lights and other indicators that traffic may be slowing.\\n\\n3. **Use Your Mirrors**: Regularly check your mirrors to stay aware of vehicles around you. This helps you anticipate lane changes and maneuvers from other drivers.\\n\\n4. **Avoid Distractions**: Minimize distractions inside your vehicle, such as using your phone or adjusting the radio, to keep your focus on the road.\\n\\n5. **Adjust Your Speed**: Be prepared to adjust your speed gradually rather than making abrupt changes. This helps to maintain a smooth flow and reduces the chance of sudden stops.\\n\\n6. **Plan Your Route**: If possible, plan your route to avoid known traffic congestion areas. Use navigation apps that provide real-time traffic updates.\\n\\n7. **Use Cruise Control Wisely**: In heavier traffic, it's often best to avoid cruise control, as it can lead to sudden stops if traffic conditions change rapidly.\\n\\n8. **Follow the Flow of Traffic**: Stay with the general flow of traffic rather than trying to weave in and out of lanes. This can reduce the chances of sudden stops.\\n\\n9. **Stay Calm and Patient**: Maintain a calm demeanor, as frustration can lead to rash driving decisions. Patience is key in heavy traffic.\\n\\n10. **Brake Smoothly**: If you do need to stop, apply the brakes smoothly to avoid sudden stops that can cause discomfort or accidents.\\n\\nBy incorporating these strategies, you can help reduce the likelihood of sudden stops and navigate through heavy traffic more safely and comfortably.\", additional_kwargs={}, response_metadata={}), HumanMessage(content='Summarize What you just said in Korean', additional_kwargs={}, response_metadata={}), AIMessage(content='혼잡한 교통 상황에서 갑작스러운 정지를 피하는 방법은 다음과 같습니다:\\n\\n1. **안전한 거리 유지**: 앞차와의 안전 거리를 유지하여 반응 시간을 확보합니다.\\n2. **주변 주의**: 교통 흐름을 주의 깊게 살피고 변화에 대비합니다. 브레이크 불빛을 미리 확인하세요.\\n3. **미러 확인**: 정기적으로 미러를 체크하여 주변 차량을 인지합니다.\\n4. **산만함 피하기**: 전화 사용이나 라디오 조정 등 차량 내 산만함을 최소화합니다.\\n5. **속도 조절**: 급격한 속도 변화보다는 점진적으로 속도를 조절합니다.\\n6. **경로 계획**: 교통 혼잡 지역을 피하는 경로를 미리 계획합니다.\\n7. **크루즈 컨트롤 신중히 사용**: 혼잡한 교통에서는 크루즈 컨트롤 사용을 피하는 것이 좋습니다.\\n8. **교통 흐름 따르기**: 일반적인 교통 흐름에 따라 이동하고 급하게 차선을 변경하지 않습니다.\\n9. **침착함 유지**: 인내심을 가지고 운전하여 불필요한 스트레스를 피합니다.\\n10. **부드럽게 제동**: 정지가 필요할 경우 부드럽게 브레이크를 밟아 갑작스러운 정지를 피합니다.\\n\\n이러한 전략을 통해 갑작스러운 정지를 줄이고 혼잡한 교통을 보다 안전하게 운전할 수 있습니다.', additional_kwargs={}, response_metadata={}), HumanMessage(content='What are the best practices for safe driving in rainy conditions?', additional_kwargs={}, response_metadata={}), AIMessage(content=\"Driving in rainy conditions requires extra caution and awareness. Here are some best practices to ensure your safety:\\n\\n1. **Slow Down**: Reduce your speed to maintain control of your vehicle. Wet roads can be slippery, increasing stopping distances.\\n\\n2. **Increase Following Distance**: Maintain a greater distance between your vehicle and the one in front of you. This gives you more time to react if the vehicle ahead stops suddenly.\\n\\n3. **Use Headlights**: Turn on your headlights to improve visibility for yourself and other drivers. In many places, it's a legal requirement to use them in rain.\\n\\n4. **Avoid Sudden Movements**: Make gradual changes to your speed and direction. Sudden acceleration, braking, or steering can lead to skidding.\\n\\n5. **Stay in Your Lane**: Use your lane markings as guides, but be cautious of water pooling, which can obscure them.\\n\\n6. **Be Mindful of Hydroplaning**: If you feel your vehicle start to hydroplane (lose traction on wet surfaces), ease off the accelerator and steer gently in the direction you want to go.\\n\\n7. **Avoid Puddles**: Steer clear of large puddles, which can hide potholes or cause your vehicle to lose traction.\\n\\n8. **Keep Windows Clear**: Use your windshield wipers and defroster to maintain visibility. Ensure that your windows are clear of fog and condensation.\\n\\n9. **Check Tire Condition**: Ensure your tires have adequate tread depth and are properly inflated. Good tires are essential for maintaining grip on wet roads.\\n\\n10. **Be Cautious at Intersections**: Approach intersections slowly, as they can be slippery, especially when rain first starts falling and mixes with oil on the road.\\n\\n11. **Avoid Distractions**: Stay focused on driving and avoid distractions, such as using your phone or adjusting the radio.\\n\\n12. **Know When to Pull Over**: If the rain becomes too heavy and visibility is significantly reduced, find a safe place to pull over and wait until conditions improve.\\n\\nBy following these best practices, you can enhance your safety and the safety of others while driving in rainy conditions.\", additional_kwargs={}, response_metadata={}), HumanMessage(content='Summarize What you just said in Korean', additional_kwargs={}, response_metadata={}), AIMessage(content='비 오는 날 안전하게 운전하기 위한 최선의 방법은 다음과 같습니다:\\n\\n1. **속도 줄이기**: 차량 제어를 유지하기 위해 속도를 줄입니다. 젖은 도로는 미끄럽기 때문에 제동 거리가 늘어납니다.\\n2. **안전 거리 늘리기**: 앞차와의 거리를 넓게 유지하여 반응 시간을 확보합니다.\\n3. **전조등 사용**: 시야를 개선하고 다른 운전자가 당신을 볼 수 있도록 전조등을 켭니다.\\n4. **급격한 움직임 피하기**: 속도나 방향을 점진적으로 변화시켜 미끄러짐을 방지합니다.\\n5. **차선 유지**: 차선 표식을 참고하되, 물이 고인 곳에 주의합니다.\\n6. **수막현상 주의**: 차량이 미끄러지기 시작하면 가속 페달에서 발을 떼고 원하는 방향으로 부드럽게 조향합니다.\\n7. **웅덩이 피하기**: 큰 웅덩이를 피하여 함정이나 미끄러짐을 방지합니다.\\n8. **창문 청결 유지**: 와이퍼와 성에 제거기를 사용하여 시야를 확보합니다.\\n9. **타이어 상태 점검**: 타이어의 마모 상태와 공기압을 확인하여 젖은 도로에서의 접지력을 확보합니다.\\n10. **교차로에서 주의**: 교차로는 미끄럽기 때문에 천천히 접근합니다.\\n11. **산만함 피하기**: 운전에 집중하고 전화 사용이나 라디오 조정 등 산만한 행동을 피합니다.\\n12. **대피할 때 알기**: 비가 너무 많이 와서 시야가 감소하면 안전한 장소에 정차하여 기다립니다.\\n\\n이러한 방법을 따르면 비 오는 날 안전하게 운전할 수 있습니다.', additional_kwargs={}, response_metadata={})]}\n"
     ]
    }
   ],
   "source": [
    "from langchain.memory import ConversationBufferWindowMemory\n",
    "\n",
    "memory = ConversationBufferWindowMemory(\n",
    "    memory_key=\"chat_history\",\n",
    "    return_messages=True,\n",
    "    k=4,\n",
    ")\n",
    "\n",
    "def add_message(input, output):\n",
    "    memory.save_context({\"input\": input}, {\"output\": output})\n",
    "\n",
    "def load_memory(x):\n",
    "    return memory.load_memory_variables({})[\"chat_history\"]\n",
    "\n",
    "\n",
    "messages_with_history = [\n",
    "    (\"system\", \"당신은 친절한 교통 분야 전문 AI Assistant 입니다.\"),\n",
    "    MessagesPlaceholder(variable_name=\"chat_history\"),\n",
    "    (\"human\", \"{question}\"),\n",
    "]\n",
    "parser = StrOutputParser()\n",
    "prompt = ChatPromptTemplate.from_messages(messages_with_history)\n",
    "memory_chain = (\n",
    "    {\"chat_history\": load_memory, \"question\": RunnablePassthrough()}\n",
    "    | prompt\n",
    "    | llm\n",
    "    | parser\n",
    ")\n",
    "\n",
    "question = \"How can I safely merge onto the highway?\"\n",
    "response = memory_chain.invoke(question)\n",
    "memory.save_context({\"input\": question}, {\"output\": response})\n",
    "\n",
    "question = \"Summarize What you just said in Korean\"\n",
    "response = memory_chain.invoke(question)\n",
    "memory.save_context({\"input\": question}, {\"output\": response})\n",
    "\n",
    "question = \"How can I avoid sudden stops while driving in heavy traffic?\"\n",
    "response = memory_chain.invoke(question)\n",
    "memory.save_context({\"input\": question}, {\"output\": response})\n",
    "\n",
    "question = \"Summarize What you just said in Korean\"\n",
    "response = memory_chain.invoke(question)\n",
    "memory.save_context({\"input\": question}, {\"output\": response})\n",
    "\n",
    "question = \"What are the best practices for safe driving in rainy conditions?\"\n",
    "response = memory_chain.invoke(question)\n",
    "memory.save_context({\"input\": question}, {\"output\": response})\n",
    "\n",
    "question = \"Summarize What you just said in Korean\"\n",
    "response = memory_chain.invoke(question)\n",
    "memory.save_context({\"input\": question}, {\"output\": response})\n",
    "\n",
    "print(memory.load_memory_variables({}))\n"
   ]
  },
  {
   "cell_type": "markdown",
   "metadata": {},
   "source": [
    "위의 코드를 실행하고 모델의 메모리를 살펴보면, 최근 4번의 대화 기록만 남아있는 것을 확인할 수 있습니다.\n",
    "\n",
    "대화 내용이 길어질 때 메모리 사용량을 줄이고 비용을 절감할 수 있습니다. 하지만 이 방법의 단점은 챗봇이 과거에 나눈 대화를 기억하지 못하게 되는 것입니다."
   ]
  },
  {
   "cell_type": "markdown",
   "metadata": {},
   "source": [
    "## 1-3 ConversationSummaryBufferMemory"
   ]
  },
  {
   "cell_type": "markdown",
   "metadata": {},
   "source": [
    "`ConversationSummaryBufferMemory`는 대화 내용이 길어질 때, 오래된 메시지를 요약하여 메모리에 저장하는 기능을 제공합니다. 이는 오래된 메시지를 단순히 삭제하는 대신 요약하여 보관함으로써, 모델이 가장 최근의 상호작용에 집중하면서도, 이전 대화 내용도 잊지 않도록 합니다.\n",
    "\n",
    "- 최근 대화 내용에 집중하면서도, 오래된 대화 내용은 요약하여 유지합니다.\n",
    "- 대화가 길어져도 메모리 사용량을 효과적으로 관리할 수 있습니다.\n",
    "\n",
    "\n",
    "__작동 방식:__\n",
    "\n",
    "1. 메시지 수가 한계에 도달: 메모리에 저장된 메시지의 수가 설정된 한계에 도달하면,\n",
    "2. 오래된 메시지 요약: 오래된 메시지들을 LLM을 호출하여 요약합니다.\n",
    "3. 요약된 메시지 저장: 요약된 메시지를 메모리에 저장하여, 중요한 내용을 잊지 않도록 합니다."
   ]
  },
  {
   "cell_type": "markdown",
   "metadata": {},
   "source": [
    "### [TODO] memory 변수를 만들고 체인을 구성해보세요."
   ]
  },
  {
   "cell_type": "code",
   "execution_count": 17,
   "metadata": {},
   "outputs": [
    {
     "name": "stdout",
     "output_type": "stream",
     "text": [
      "{'chat_history': [SystemMessage(content='The human asks how to safely merge onto the highway, and the AI provides detailed steps for safe merging, which include observing traffic, signaling intentions, accelerating on the on-ramp, checking surroundings, merging when safe, maintaining a safe following distance, being aware of other drivers, and staying calm if an opportunity is missed. The human requests a summary of these steps in Korean, and the AI translates the merging steps into Korean. The human then inquires about avoiding sudden stops while driving in heavy traffic, to which the AI offers tips such as maintaining a safe following distance, staying aware of traffic conditions, anticipating changes, using mirrors regularly, avoiding distractions, planning routes, using smooth acceleration and braking, staying calm and patient, and considering alternate routes. The human asks for a Korean summary of these tips, and the AI provides a comprehensive translation. Finally, the human asks about best practices for safe driving in rainy conditions. The AI lists several best practices, including reducing speed, increasing following distance, using headlights, avoiding sudden movements, being aware of hydroplaning, staying in the middle lane, checking wipers and tires, avoiding puddles, watching for brake lights, limiting distractions, planning ahead, and knowing when to pull over if conditions worsen.', additional_kwargs={}, response_metadata={}), HumanMessage(content='Summarize What you just said in Korean', additional_kwargs={}, response_metadata={}), AIMessage(content='고속도로로 안전하게 진입하는 방법은 다음과 같습니다:\\n1. 교통 상황을 관찰합니다.\\n2. 진입로에서 속도를 높입니다.\\n3. 주변을 확인합니다.\\n4. 안전할 때 차선을 변경합니다.\\n5. 안전한 추종 거리를 유지합니다.\\n6. 다른 운전자를 인식합니다.\\n7. 기회를 놓쳤더라도 침착함을 유지합니다.\\n\\n혼잡한 교통에서 갑작스러운 정지를 피하기 위한 팁은 다음과 같습니다:\\n1. 안전한 추종 거리를 유지합니다.\\n2. 교통 상황을 지속적으로 파악합니다.\\n3. 변화에 대비합니다.\\n4. 거울을 자주 확인합니다.\\n5. 주의 분산을 피합니다.\\n6. 경로를 계획합니다.\\n7. 부드러운 가속과 제동을 사용합니다.\\n8. 침착하고 인내심을 가집니다.\\n9. 우회 경로를 고려합니다.\\n\\n비 오는 날 안전 운전의 최선 관행은 다음과 같습니다:\\n1. 속도를 줄입니다.\\n2. 추종 거리를 늘립니다.\\n3. 헤드라이트를 사용합니다.\\n4. 갑작스러운 움직임을 피합니다.\\n5. 수막 현상에 주의합니다.\\n6. 중간 차선을 유지합니다.\\n7. 와이퍼와 타이어를 점검합니다.\\n8. 웅덩이를 피합니다.\\n9. 브레이크등을 주의 깊게 관찰합니다.\\n10. 주의 분산을 최소화합니다.\\n11. 미리 계획합니다.\\n12. 상황이 악화되면 언제 멈출지 알아둡니다.', additional_kwargs={}, response_metadata={})]}\n"
     ]
    }
   ],
   "source": [
    "from langchain.memory import ConversationSummaryBufferMemory\n",
    "\n",
    "memory = ConversationSummaryBufferMemory(\n",
    "    memory_key=\"chat_history\",\n",
    "    llm=llm,\n",
    "    max_token_limit=400,\n",
    "    return_messages=True\n",
    ")\n",
    "\n",
    "def format_docs(docs):\n",
    "    return \"\\n\\n\".join(doc.page_content for doc in docs)\n",
    "\n",
    "def add_message(input, output):\n",
    "    memory.save_context({\"input\": input}, {\"output\": output})\n",
    "\n",
    "def load_memory(x):\n",
    "    return memory.load_memory_variables({})[\"chat_history\"]\n",
    "\n",
    "messages_with_history = [\n",
    "    (\"system\", \"당신은 친절한 교통 분야 전문 AI Assistant 입니다.\"),\n",
    "    MessagesPlaceholder(variable_name=\"chat_history\"),\n",
    "    (\"human\", \"{question}\"),\n",
    "]\n",
    "parser = StrOutputParser()\n",
    "prompt = ChatPromptTemplate.from_messages(messages_with_history)\n",
    "memory_chain = (\n",
    "    {\"chat_history\": load_memory, \"question\": RunnablePassthrough()}\n",
    "    | prompt\n",
    "    | llm\n",
    "    | parser\n",
    ")\n",
    "\n",
    "question = \"How can I safely merge onto the highway?\"\n",
    "response = memory_chain.invoke(question)\n",
    "memory.save_context({\"input\": question}, {\"output\": response})\n",
    "\n",
    "question = \"Summarize What you just said in Korean\"\n",
    "response = memory_chain.invoke(question)\n",
    "memory.save_context({\"input\": question}, {\"output\": response})\n",
    "\n",
    "question = \"How can I avoid sudden stops while driving in heavy traffic?\"\n",
    "response = memory_chain.invoke(question)\n",
    "memory.save_context({\"input\": question}, {\"output\": response})\n",
    "\n",
    "question = \"Summarize What you just said in Korean\"\n",
    "response = memory_chain.invoke(question)\n",
    "memory.save_context({\"input\": question}, {\"output\": response})\n",
    "\n",
    "question = \"What are the best practices for safe driving in rainy conditions?\"\n",
    "response = memory_chain.invoke(question)\n",
    "memory.save_context({\"input\": question}, {\"output\": response})\n",
    "\n",
    "question = \"Summarize What you just said in Korean\"\n",
    "response = memory_chain.invoke(question)\n",
    "memory.save_context({\"input\": question}, {\"output\": response})\n",
    "\n",
    "print(memory.load_memory_variables({}))\n"
   ]
  },
  {
   "cell_type": "markdown",
   "metadata": {},
   "source": [
    "gpt-4o-mini 모델을 사용하는 ChatOpenAI, OpenAIEmbeddings 객체를 생성합니다."
   ]
  },
  {
   "cell_type": "markdown",
   "metadata": {},
   "source": [
    "위의 코드를 실행하면, ConversationSummaryBufferMemory가 설정한 최대 토큰 한계(400)를 넘어가면서 오래된 대화 내용이 요약된 것을 확인할 수 있습니다. 이를 통해 가장 최근의 대화 내용은 그대로 유지하면서, 오래된 대화 내용도 요약된 형태로 잊혀지지 않고 보존할 수 있습니다."
   ]
  }
 ],
 "metadata": {
  "kernelspec": {
   "display_name": "Python 3",
   "language": "python",
   "name": "python3"
  },
  "language_info": {
   "codemirror_mode": {
    "name": "ipython",
    "version": 3
   },
   "file_extension": ".py",
   "mimetype": "text/x-python",
   "name": "python",
   "nbconvert_exporter": "python",
   "pygments_lexer": "ipython3",
   "version": "3.12.1"
  }
 },
 "nbformat": 4,
 "nbformat_minor": 4
}
