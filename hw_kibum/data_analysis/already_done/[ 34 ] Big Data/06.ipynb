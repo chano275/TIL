{
  "cells": [
    {
      "cell_type": "markdown",
      "metadata": {
        "id": "0vcSA-MDHksQ"
      },
      "source": [
        "# Setting Pyspark in Colab\n",
        "\n",
        "## Spark 설치 및 초기 설정\n",
        " Spark은 대용량 데이터 처리를 위한 분산 컴퓨팅 프레임워크입니다\n"
      ]
    },
    {
      "cell_type": "code",
      "execution_count": 2,
      "metadata": {
        "id": "xy21kj6l-sVM",
        "colab": {
          "base_uri": "https://localhost:8080/"
        },
        "outputId": "80d2f0fc-8d66-4045-cc22-f9027ed60ccf"
      },
      "outputs": [
        {
          "output_type": "stream",
          "name": "stdout",
          "text": [
            "debconf: unable to initialize frontend: Dialog\n",
            "debconf: (No usable dialog-like program is installed, so the dialog based frontend cannot be used. at /usr/share/perl5/Debconf/FrontEnd/Dialog.pm line 78, <> line 3.)\n",
            "debconf: falling back to frontend: Readline\n",
            "debconf: unable to initialize frontend: Readline\n",
            "debconf: (This frontend requires a controlling tty.)\n",
            "debconf: falling back to frontend: Teletype\n",
            "dpkg-preconfigure: unable to re-open stdin: \n"
          ]
        }
      ],
      "source": [
        "!sudo apt-get install -y openjdk-8-jdk-headless -qq > /dev/null\n",
        "!wget -q https://archive.apache.org/dist/spark/spark-3.2.4/spark-3.2.4-bin-hadoop3.2.tgz\n",
        "!tar xf spark-3.2.4-bin-hadoop3.2.tgz\n",
        "!pip install -q findspark"
      ]
    },
    {
      "cell_type": "code",
      "source": [],
      "metadata": {
        "id": "cu_QUrCoLw5p"
      },
      "execution_count": null,
      "outputs": []
    },
    {
      "cell_type": "code",
      "execution_count": 4,
      "metadata": {
        "id": "NuSXGIaf-_cL",
        "jupyter": {
          "is_executing": true
        }
      },
      "outputs": [],
      "source": [
        "# findspark를 사용해 Spark 초기화\n",
        "import findspark\n",
        "findspark.init(\"./spark-3.2.4-bin-hadoop3.2\")"
      ]
    },
    {
      "cell_type": "code",
      "execution_count": 5,
      "metadata": {
        "id": "wsPoOtSy_BuF"
      },
      "outputs": [],
      "source": [
        "# SparkSession 생성\n",
        "# SparkSession은 Spark 프로그램의 시작점이며, 모든 Spark 기능의 진입점입니다\n",
        "\n",
        "from pyspark.sql import SparkSession\n",
        "spark = SparkSession.builder.getOrCreate()\n",
        "sc = spark.sparkContext"
      ]
    },
    {
      "cell_type": "code",
      "execution_count": null,
      "metadata": {
        "id": "9E9IUp7rHksS"
      },
      "outputs": [],
      "source": []
    },
    {
      "cell_type": "markdown",
      "metadata": {
        "id": "TI8T1v1BFAjT"
      },
      "source": [
        "# Word Count (gutenberg)\n",
        "\n",
        "1. gutenberg.txt 파일 로드\n",
        "2. 문장부호를 제거하고 소문자로 변환\n",
        "3. 단어 단위로 분리\n",
        "4. (단어, 1) 형태의 tuple 생성\n",
        "5. 단어를 기준으로 결합하여 개수 세기\n",
        "6. 상위 10개 결과 확인"
      ]
    },
    {
      "cell_type": "code",
      "execution_count": 7,
      "metadata": {
        "colab": {
          "base_uri": "https://localhost:8080/"
        },
        "id": "5Pwd0QpLE_ul",
        "outputId": "4be5b5c8-24bb-45e1-85f8-217aa8114003"
      },
      "outputs": [
        {
          "output_type": "stream",
          "name": "stdout",
          "text": [
            "[(2848, 'the'), (1475, 'to'), (1457, 'of'), (1454, 'and'), (1093, 'i'), (982, 'a'), (815, 'in'), (771, 'that'), (608, 'he'), (579, 'was')]\n"
          ]
        }
      ],
      "source": [
        "# RDD를 사용한 단어 수 세기\n",
        "# RDD(Resilient Distributed Dataset)는 Spark의 기본 데이터 구조입니다\n",
        "# 여러 단계의 변환(transformation)을 통해 데이터를 처리합니다\n",
        "wordcount = sc.textFile(\"gutenberg.txt\") \\\n",
        "              .map(lambda x: x.replace(\",\", \"\").replace(\".\", \"\").replace(\"'\", \"\").replace('\"', \"\").lower()) \\\n",
        "              .flatMap(lambda x: x.split()) \\\n",
        "              .map(lambda x: (x, 1)) \\\n",
        "              .reduceByKey(lambda x, y: x + y) \\\n",
        "              .map(lambda x: (x[1], x[0])) \\\n",
        "              .sortByKey(False)\n",
        "\n",
        "print(wordcount.take(10))"
      ]
    },
    {
      "cell_type": "markdown",
      "metadata": {
        "id": "Os9jrit0XeIb"
      },
      "source": [
        "## 한 줄씩 처리 과정 이해"
      ]
    },
    {
      "cell_type": "code",
      "execution_count": 8,
      "metadata": {
        "colab": {
          "base_uri": "https://localhost:8080/"
        },
        "id": "cXDWUvS_Xc37",
        "outputId": "c515402c-3a68-4493-93e9-779d18f11ad3"
      },
      "outputs": [
        {
          "output_type": "execute_result",
          "data": {
            "text/plain": [
              "['The Project Gutenberg EBook of Friday, the Thirteenth, by Thomas W. Lawson',\n",
              " '',\n",
              " 'This eBook is for the use of anyone anywhere at no cost and with',\n",
              " 'almost no restrictions whatsoever.  You may copy it, give it away or',\n",
              " 're-use it under the terms of the Project Gutenberg License included',\n",
              " 'with this eBook or online at www.gutenberg.net',\n",
              " '',\n",
              " '',\n",
              " 'Title: Friday, the Thirteenth',\n",
              " '']"
            ]
          },
          "metadata": {},
          "execution_count": 8
        }
      ],
      "source": [
        "# 1. 파일 읽기\n",
        "# textFile()은 텍스트 파일을 읽어 RDD로 변환합니다\n",
        "rdd1 = sc.textFile(\"gutenberg.txt\")  # 파일로부터 rdd 만들기\n",
        "rdd1.take(10)"
      ]
    },
    {
      "cell_type": "code",
      "execution_count": 9,
      "metadata": {
        "colab": {
          "base_uri": "https://localhost:8080/"
        },
        "id": "eHT1urp9XtMg",
        "outputId": "68b3c569-5337-47ab-e09f-0b458992aa27"
      },
      "outputs": [
        {
          "output_type": "execute_result",
          "data": {
            "text/plain": [
              "['the project gutenberg ebook of friday the thirteenth by thomas w lawson',\n",
              " '',\n",
              " 'this ebook is for the use of anyone anywhere at no cost and with',\n",
              " 'almost no restrictions whatsoever  you may copy it give it away or',\n",
              " 're-use it under the terms of the project gutenberg license included',\n",
              " 'with this ebook or online at wwwgutenbergnet',\n",
              " '',\n",
              " '',\n",
              " 'title: friday the thirteenth',\n",
              " '']"
            ]
          },
          "metadata": {},
          "execution_count": 9
        }
      ],
      "source": [
        "# 2. 문장부호 제거 및 소문자 변환\n",
        "# map()은 각 요소에 함수를 적용하는 변환 연산입니다\n",
        "rdd2 = rdd1.map(lambda x: x.replace(\",\", \"\").replace(\".\", \"\").replace(\"'\", \"\").replace('\"', \"\").lower())  # 문장부호 제거 및 소문자로\n",
        "rdd2.take(10)"
      ]
    },
    {
      "cell_type": "code",
      "execution_count": 10,
      "metadata": {
        "colab": {
          "base_uri": "https://localhost:8080/"
        },
        "id": "AFdkM75AX0tQ",
        "outputId": "718ae1bb-907a-4f2a-d850-19c56f1decf2"
      },
      "outputs": [
        {
          "output_type": "execute_result",
          "data": {
            "text/plain": [
              "['the',\n",
              " 'project',\n",
              " 'gutenberg',\n",
              " 'ebook',\n",
              " 'of',\n",
              " 'friday',\n",
              " 'the',\n",
              " 'thirteenth',\n",
              " 'by',\n",
              " 'thomas']"
            ]
          },
          "metadata": {},
          "execution_count": 10
        }
      ],
      "source": [
        "# 3. 단어 단위로 분리\n",
        "# flatMap()은 각 요소를 여러 개의 새로운 요소로 분리합니다\n",
        "rdd3 = rdd2.flatMap(lambda x: x.split())  # 단어 단위 분리 (map이 아닌 flatMap을 사용한다는 점에 주목)\n",
        "rdd3.take(10)"
      ]
    },
    {
      "cell_type": "code",
      "execution_count": 11,
      "metadata": {
        "colab": {
          "base_uri": "https://localhost:8080/"
        },
        "id": "Q3LoZV8RX_sI",
        "outputId": "bb0dec8b-0d4d-44a6-d0d5-a6a986ceaa95"
      },
      "outputs": [
        {
          "output_type": "execute_result",
          "data": {
            "text/plain": [
              "[('the', 1),\n",
              " ('project', 1),\n",
              " ('gutenberg', 1),\n",
              " ('ebook', 1),\n",
              " ('of', 1),\n",
              " ('friday', 1),\n",
              " ('the', 1),\n",
              " ('thirteenth', 1),\n",
              " ('by', 1),\n",
              " ('thomas', 1)]"
            ]
          },
          "metadata": {},
          "execution_count": 11
        }
      ],
      "source": [
        "# 4. (단어, 1) 형태의 tuple 생성\n",
        "# 각 단어를 키로 하고 값을 1로 하는 tuple을 만듭니다\n",
        "rdd4 = rdd3.map(lambda x: (x, 1))  # reduceByKey를 사용하기 위해 (key, value)의 튜플 형태로 만듦. key=단어, value=1\n",
        "rdd4.take(10)"
      ]
    },
    {
      "cell_type": "code",
      "execution_count": 12,
      "metadata": {
        "colab": {
          "base_uri": "https://localhost:8080/"
        },
        "id": "HZsdcJN6YMzj",
        "outputId": "24904926-23fd-4906-b0de-053eb7c6a423"
      },
      "outputs": [
        {
          "output_type": "execute_result",
          "data": {
            "text/plain": [
              "[('project', 89),\n",
              " ('gutenberg', 27),\n",
              " ('ebook', 13),\n",
              " ('of', 1457),\n",
              " ('friday', 34),\n",
              " ('thirteenth', 12),\n",
              " ('thomas', 10),\n",
              " ('lawson', 17),\n",
              " ('this', 236),\n",
              " ('is', 349)]"
            ]
          },
          "metadata": {},
          "execution_count": 12
        }
      ],
      "source": [
        "# 5. 단어별로 개수 합치기\n",
        "# reduceByKey()는 같은 키를 가진 값들을 지정된 함수로 결합합니다\n",
        "rdd5 = rdd4.reduceByKey(lambda x, y: x + y)  # reduceByKey를 사용하여 같은 key(단어)의 value(1)들을 모두 더함. 즉, 단어들의 등장 횟수를 구함\n",
        "rdd5.take(10)"
      ]
    },
    {
      "cell_type": "code",
      "execution_count": 13,
      "metadata": {
        "colab": {
          "base_uri": "https://localhost:8080/"
        },
        "id": "LxWn3Y6hYeEy",
        "outputId": "5c3f95be-9011-4689-9eca-a395f482b64d"
      },
      "outputs": [
        {
          "output_type": "execute_result",
          "data": {
            "text/plain": [
              "[(89, 'project'),\n",
              " (27, 'gutenberg'),\n",
              " (13, 'ebook'),\n",
              " (1457, 'of'),\n",
              " (34, 'friday'),\n",
              " (12, 'thirteenth'),\n",
              " (10, 'thomas'),\n",
              " (17, 'lawson'),\n",
              " (236, 'this'),\n",
              " (349, 'is')]"
            ]
          },
          "metadata": {},
          "execution_count": 13
        }
      ],
      "source": [
        "# 6. (개수, 단어) 형태로 변환\n",
        "# 정렬을 위해 키와 값의 위치를 바꿉니다\n",
        "rdd6 = rdd5.map(lambda x: (x[1], x[0]))  # sortByKey를 사용하기 위해 (key, value)의 튜플 형태로 만듦. key=단어 등장 빈도, value=단어\n",
        "rdd6.take(10)"
      ]
    },
    {
      "cell_type": "code",
      "execution_count": 14,
      "metadata": {
        "colab": {
          "base_uri": "https://localhost:8080/"
        },
        "id": "tZkmXhoqYqJg",
        "outputId": "206d94f2-39aa-4960-eb0f-dce550ab4925"
      },
      "outputs": [
        {
          "output_type": "execute_result",
          "data": {
            "text/plain": [
              "[(2848, 'the'),\n",
              " (1475, 'to'),\n",
              " (1457, 'of'),\n",
              " (1454, 'and'),\n",
              " (1093, 'i'),\n",
              " (982, 'a'),\n",
              " (815, 'in'),\n",
              " (771, 'that'),\n",
              " (608, 'he'),\n",
              " (579, 'was')]"
            ]
          },
          "metadata": {},
          "execution_count": 14
        }
      ],
      "source": [
        "# 7. 개수를 기준으로 내림차순 정렬\n",
        "# sortByKey()는 키를 기준으로 정렬합니다\n",
        "rdd7 = rdd6.sortByKey(False)  # sortByKey를 사용하여 key 크기 순으로 정렬. 인자로 False를 주면 내림차순 정렬, 인자로 True를 주면 오름차순 정렬.\n",
        "rdd7.take(10)  # 최빈 단어 10개 출력"
      ]
    }
  ],
  "metadata": {
    "colab": {
      "provenance": []
    },
    "kernelspec": {
      "display_name": "Python 3",
      "name": "python3"
    },
    "language_info": {
      "codemirror_mode": {
        "name": "ipython",
        "version": 3
      },
      "file_extension": ".py",
      "mimetype": "text/x-python",
      "name": "python",
      "nbconvert_exporter": "python",
      "pygments_lexer": "ipython3",
      "version": "3.9.13"
    }
  },
  "nbformat": 4,
  "nbformat_minor": 0
}